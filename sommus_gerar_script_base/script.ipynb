{
 "cells": [
  {
   "cell_type": "code",
   "execution_count": 13,
   "metadata": {},
   "outputs": [],
   "source": [
    "import json\n",
    "\n",
    "class Helper():\n",
    "    @staticmethod\n",
    "    def LoadJson(file):\n",
    "        with open(file, encoding='utf-8') as f:\n",
    "            return json.load(f)\n",
    "    \n",
    "    @staticmethod\n",
    "    def SaveJson(file, data):\n",
    "        with open(file, 'w', encoding='utf-8') as f:\n",
    "            f.write(data)"
   ]
  },
  {
   "cell_type": "code",
   "execution_count": 20,
   "metadata": {},
   "outputs": [],
   "source": [
    "dados =  Helper.LoadJson(\"C:\\Sommus\\SommusGestor-web\\src\\Versionamento\\Domain\\Sommus.Gestor.Versionamento.Domain\\Resources\\\\version_db_empresa__branch_financas.json\")\n",
    "versionamentos = dados['ScriptLog']\n",
    "versionamentos.reverse()\n",
    "script = ''\n",
    "\n",
    "for versionamento in versionamentos:\n",
    "    if versionamento['Versao'] == '20220928.001244.721-financas':\n",
    "        msg = 1\n",
    "\n",
    "    script += versionamento['Script'] + '\\n'\n",
    "\n",
    "Helper.SaveJson('inserts.txt', script)"
   ]
  }
 ],
 "metadata": {
  "kernelspec": {
   "display_name": "Python 3.10.8 64-bit (microsoft store)",
   "language": "python",
   "name": "python3"
  },
  "language_info": {
   "codemirror_mode": {
    "name": "ipython",
    "version": 3
   },
   "file_extension": ".py",
   "mimetype": "text/x-python",
   "name": "python",
   "nbconvert_exporter": "python",
   "pygments_lexer": "ipython3",
   "version": "3.10.8"
  },
  "orig_nbformat": 4,
  "vscode": {
   "interpreter": {
    "hash": "0cc338008178a1214e27db39d3f98c32ba31c00ac11362c1983256bb5ef1e9b4"
   }
  }
 },
 "nbformat": 4,
 "nbformat_minor": 2
}
