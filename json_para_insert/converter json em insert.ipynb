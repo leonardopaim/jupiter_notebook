{
 "cells": [
  {
   "cell_type": "code",
   "execution_count": 12,
   "metadata": {
    "dotnet_interactive": {
     "language": "csharp"
    }
   },
   "outputs": [],
   "source": [
    "import json\n",
    "\n",
    "class Helper():\n",
    "    @staticmethod\n",
    "    def LoadJson(file):\n",
    "        with open(file, encoding='utf-8') as f:\n",
    "            return json.load(f)\n",
    "\n",
    "    @staticmethod\n",
    "    def SaveFileSQL(file, data):\n",
    "        with open(file, 'w') as f:\n",
    "            f.write(data)"
   ]
  },
  {
   "cell_type": "markdown",
   "metadata": {},
   "source": [
    "# categoria.json"
   ]
  },
  {
   "cell_type": "code",
   "execution_count": 13,
   "metadata": {
    "dotnet_interactive": {
     "language": "csharp"
    }
   },
   "outputs": [],
   "source": [
    "dados =  Helper.LoadJson(\"jsons\\categoria.json\")\n",
    "\n",
    "insert = 'insert into categoria (codigo_interno, nome, codigo, credito_debito, categoria_grupo_id, analitica_sintetica, nivel) values '\n",
    "\n",
    "categorias = dados['categoria']\n",
    "\n",
    "for c in categorias:\n",
    "    categoria_grupo = \"NULL\" if c['categoria_grupo_id'] == \"\" else c['categoria_grupo_id']    \n",
    "    parametros = '({}, \"{}\", \"{}\", \"{}\", {}, \"{}\", {}), '\n",
    "    parametrosFormatados = parametros.format(c['codigo_interno'], c['nome'], c['codigo'], c['credito_debito'], categoria_grupo, c['analitica_sintetica'], c['nivel'])    \n",
    "    insert += parametrosFormatados\n",
    "\n",
    "insert = insert[:-2] + ';'\n",
    "\n",
    "Helper.SaveFileSQL('scripts\\categorias.sql', insert)"
   ]
  },
  {
   "cell_type": "markdown",
   "metadata": {},
   "source": [
    "# categoria_grupo.json"
   ]
  },
  {
   "cell_type": "code",
   "execution_count": 35,
   "metadata": {
    "dotnet_interactive": {
     "language": "csharp"
    }
   },
   "outputs": [],
   "source": [
    "dados = Helper.LoadJson(\"jsons\\categoria_grupo.json\")\n",
    "\n",
    "insert = 'insert into categoria_grupo (categoria_grupo_id, codigo_interno, codigo, nome, credito_debito) values '\n",
    "\n",
    "for g in dados['categoria_grupo']:\n",
    "    parametros = '({}, {}, \"{}\", \"{}\", \"{}\"), '\n",
    "    parametrosFormatados = parametros.format(g['categoria_grupo_id'], g['codigo_interno'], g['codigo'], g['nome'], g['credito_debito'])\n",
    "    insert += parametrosFormatados\n",
    "\n",
    "insert = insert[:-2] + ';'\n",
    "\n",
    "Helper.SaveFileSQL('scripts\\categoria_grupos.sql', insert)"
   ]
  },
  {
   "cell_type": "markdown",
   "metadata": {},
   "source": [
    "# categoria_grupo_conta_contabil.json"
   ]
  },
  {
   "cell_type": "code",
   "execution_count": 36,
   "metadata": {
    "dotnet_interactive": {
     "language": "csharp"
    }
   },
   "outputs": [],
   "source": [
    "dados = Helper.LoadJson(\"jsons\\categoria_grupo_conta_contabil.json\")\n",
    "\n",
    "insert = 'insert into categoria_grupo_conta_contabil (categoria_grupo_id, conta_contabil_id, origem, saldo, valor, regime) values '\n",
    "\n",
    "for g in dados['categoria_grupo_conta_contabil']:\n",
    "    parametros = '({}, {}, {}, {}, {}, {}), '\n",
    "    parametrosFormatados = parametros.format(g['categoria_grupo_id'], g['conta_contabil_id'], g['origem'], g['saldo'], g['valor'], g['regime'])\n",
    "    insert += parametrosFormatados\n",
    "\n",
    "insert = insert[:-2] + ';'\n",
    "\n",
    "Helper.SaveFileSQL('scripts\\categoria_grupo_conta_contabil.sql', insert)"
   ]
  },
  {
   "cell_type": "markdown",
   "metadata": {},
   "source": [
    "# conta_contabil.json"
   ]
  },
  {
   "cell_type": "code",
   "execution_count": 41,
   "metadata": {
    "dotnet_interactive": {
     "language": "csharp"
    }
   },
   "outputs": [],
   "source": [
    "dados = Helper.LoadJson(\"jsons\\conta_contabil.json\")\n",
    "\n",
    "insert = 'insert into conta_contabil (codigo_interno, codigo, codigo_reduzido, codigo_rfb, nome, natureza, grupo, analitica_sintetica, nivel) values '\n",
    "\n",
    "for cc in dados['conta_contabil']:\n",
    "    parametros = '({}, \"{}\", {}, \"{}\", \"{}\", {}, {}, \"{}\", {}), '\n",
    "    parametrosFormatados = parametros.format(cc['codigo_interno'], cc['codigo'], cc['codigo_reduzido'], cc['codigo_rfb'], cc['nome'], cc['natureza'], cc['grupo'], cc['analitica_sintetica'], cc['nivel'])\n",
    "    insert += parametrosFormatados\n",
    "\n",
    "insert = insert[:-2] + ';'\n",
    "\n",
    "Helper.SaveFileSQL('scripts\\conta_contabil.sql', insert)"
   ]
  },
  {
   "cell_type": "markdown",
   "metadata": {},
   "source": [
    "# folha_pagamento_evento.json"
   ]
  },
  {
   "cell_type": "code",
   "execution_count": 38,
   "metadata": {
    "dotnet_interactive": {
     "language": "csharp"
    }
   },
   "outputs": [],
   "source": [
    "dados = Helper.LoadJson(\"jsons\\\\folha_pagamento_evento.json\")\n",
    "\n",
    "insert = 'insert into folha_pagamento_evento (codigo_interno, nome, vencimento_desconto, categoria_id, percentual_salario) values '\n",
    "\n",
    "for fpe in dados['folha_pagamento_evento']:\n",
    "    parametros = '({}, \"{}\", \"{}\", {}, {}), '\n",
    "    parametrosFormatados = parametros.format(fpe['codigo_interno'], fpe['nome'], fpe['vencimento_desconto'][0], fpe['categoria_id'], fpe['percentual_salario'])\n",
    "    insert += parametrosFormatados\n",
    "\n",
    "insert = insert[:-2] + ';'\n",
    "\n",
    "Helper.SaveFileSQL('scripts\\\\folha_pagamento_evento.sql', insert)"
   ]
  },
  {
   "cell_type": "markdown",
   "metadata": {},
   "source": [
    "# operacao.json\n",
    "\n",
    "Adicionar dados na tabela `operacao`, na tabela `operacao_categoria` e na tabela `operacao_conta_contabil`."
   ]
  },
  {
   "cell_type": "code",
   "execution_count": 39,
   "metadata": {
    "dotnet_interactive": {
     "language": "csharp"
    }
   },
   "outputs": [],
   "source": [
    "dados = Helper.LoadJson(\"jsons\\operacao.json\")\n",
    "\n",
    "insert = 'insert into operacao (codigo_interno, nome, entrada_saida, movimenta_estoque, movimenta_financeiro, atualiza_precos) values '\n",
    "\n",
    "for o in dados['operacao']:\n",
    "    parametros = '({}, \"{}\", \"{}\", {}, {}, {}), '\n",
    "    parametrosFormatados = parametros.format(o['codigo_interno'], o['nome'], o['entrada_saida'], o['movimenta_estoque'], o['movimenta_financeiro'], o['atualiza_precos'])\n",
    "    insert += parametrosFormatados\n",
    "\n",
    "insert = insert[:-2] + ';'\n",
    "\n",
    "Helper.SaveFileSQL('scripts\\operacao.sql', insert)"
   ]
  },
  {
   "cell_type": "markdown",
   "metadata": {},
   "source": [
    "# operacao_categoria.json\n",
    "\n",
    "Adicionar dados na tabela `operacao_categoria`."
   ]
  },
  {
   "cell_type": "code",
   "execution_count": 40,
   "metadata": {
    "dotnet_interactive": {
     "language": "csharp"
    }
   },
   "outputs": [],
   "source": [
    "dados = Helper.LoadJson(\"jsons\\operacao_categoria.json\")\n",
    "\n",
    "insert = 'insert into operacao_categoria (operacao_id, categoria_id, tipo) values '\n",
    "\n",
    "for o in dados['operacao_categoria']:\n",
    "    parametros = '({}, {}, {}), '\n",
    "    parametrosFormatados = parametros.format(o['operacao_id'], o['categoria_id'], o['tipo'])\n",
    "    insert += parametrosFormatados\n",
    "\n",
    "insert = insert[:-2] + ';'\n",
    "\n",
    "Helper.SaveFileSQL('scripts\\operacao_categoria.sql', insert)"
   ]
  }
 ],
 "metadata": {
  "kernelspec": {
   "display_name": "Python 3.10.2 64-bit",
   "language": "python",
   "name": "python3"
  },
  "language_info": {
   "codemirror_mode": {
    "name": "ipython",
    "version": 3
   },
   "file_extension": ".py",
   "mimetype": "text/x-python",
   "name": "python",
   "nbconvert_exporter": "python",
   "pygments_lexer": "ipython3",
   "version": "3.10.2"
  },
  "orig_nbformat": 4,
  "vscode": {
   "interpreter": {
    "hash": "38cdd751ff1a78921eff5cc54f687db2b577836ff9e523662c7eedaeda872ff5"
   }
  }
 },
 "nbformat": 4,
 "nbformat_minor": 2
}
