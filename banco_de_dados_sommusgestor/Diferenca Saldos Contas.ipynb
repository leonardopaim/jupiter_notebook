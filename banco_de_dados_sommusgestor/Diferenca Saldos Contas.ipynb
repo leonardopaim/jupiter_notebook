{
 "cells": [
  {
   "cell_type": "code",
   "execution_count": null,
   "metadata": {},
   "outputs": [],
   "source": [
    "! pip install pymysql;"
   ]
  },
  {
   "cell_type": "code",
   "execution_count": 29,
   "metadata": {},
   "outputs": [],
   "source": [
    "import pymysql\n",
    "\n",
    "def seleciona_database(cursor, grupoId):\n",
    "    cursor.execute(f'USE sommusgestor_{grupoId}')\n",
    "\n",
    "def listar_movimentos(cursor, dataMovimento, empresaId):\n",
    "    cursor.execute(\n",
    "        f'SELECT * FROM movimento m LEFT JOIN movimento_forma_pagamento mfp ON mfp.movimento_id = m.movimento_id WHERE m.data_hora_movimento>={dataMovimento} AND m.empresa_id={empresaId} AND m.cancelado=0 AND mfp.saldo=1 GROUP BY DATE(m.data_hora_movimento), m.conta_id ORDER BY m.data_hora_movimento'\n",
    "    )\n",
    "    return cursor.fetchall()\n",
    "\n"
   ]
  },
  {
   "cell_type": "code",
   "execution_count": 30,
   "metadata": {},
   "outputs": [
    {
     "name": "stdout",
     "output_type": "stream",
     "text": [
      "🟡 Analisando movimentações\n",
      "9107\n"
     ]
    }
   ],
   "source": [
    "HOST = 'localhost'\n",
    "PORTA = 3307\n",
    "USUARIO = 'root'\n",
    "PASSWORD = 'root'\n",
    "grupoId = 1\n",
    "empresaId = 1\n",
    "dataInicio = \"2024-09-01\"\n",
    "\n",
    "if __name__ == '__main__':\n",
    "    try:\n",
    "        with pymysql.connect(host=HOST, user=USUARIO, password=PASSWORD, port=PORTA).cursor() as cursor:\n",
    "            mensagem_inicial = f\"🟡 Analisando movimentações\"\n",
    "            print(mensagem_inicial)\n",
    "\n",
    "            seleciona_database(cursor, grupoId)\n",
    "\n",
    "            movimentos = listar_movimentos(cursor, dataInicio, empresaId)\n",
    "\n",
    "            # for movimento in movimentos:\n",
    "\n",
    "\n",
    "            print(len(movimentos))\n",
    "\n",
    "    except Exception as e:\n",
    "        print(f'⛔ [Exceção lançada] \\n{e}')"
   ]
  }
 ],
 "metadata": {
  "kernelspec": {
   "display_name": "Python 3",
   "language": "python",
   "name": "python3"
  },
  "language_info": {
   "codemirror_mode": {
    "name": "ipython",
    "version": 3
   },
   "file_extension": ".py",
   "mimetype": "text/x-python",
   "name": "python",
   "nbconvert_exporter": "python",
   "pygments_lexer": "ipython3",
   "version": "3.11.9"
  }
 },
 "nbformat": 4,
 "nbformat_minor": 2
}
