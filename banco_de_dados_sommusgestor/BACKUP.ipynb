{
 "cells": [
  {
   "attachments": {},
   "cell_type": "markdown",
   "metadata": {},
   "source": [
    "## Configuração (Somente quando necessário)"
   ]
  },
  {
   "cell_type": "code",
   "execution_count": null,
   "metadata": {},
   "outputs": [],
   "source": [
    "! pip install pymysql"
   ]
  },
  {
   "cell_type": "markdown",
   "metadata": {},
   "source": [
    "## Fazer backup dos bancos"
   ]
  },
  {
   "cell_type": "code",
   "execution_count": 5,
   "metadata": {},
   "outputs": [],
   "source": [
    "import pymysql\n",
    "import os\n",
    "from datetime import datetime"
   ]
  },
  {
   "cell_type": "code",
   "execution_count": 6,
   "metadata": {},
   "outputs": [
    {
     "name": "stdout",
     "output_type": "stream",
     "text": [
      "Exceção lançada: [WinError 123] A sintaxe do nome do arquivo, do nome do diretório ou do rótulo do volume está incorreta: 'backups/dados_teste_dos_boletos_2023-03-06_20:27:31'\n"
     ]
    }
   ],
   "source": [
    "HOST='localhost'\n",
    "PORT=3307\n",
    "USER= 'root'\n",
    "PASSWORD= 'root'\n",
    "PASTA='backups'\n",
    "SUBPASTA=f'dados_teste_dos_boletos_{datetime.now().strftime(\"%Y-%m-%d_%H-%M-%S\")}'\n",
    "\n",
    "def verificar_e_criar_pasta():\n",
    "    pasta_existe = os.path.exists(PASTA)\n",
    "    if not pasta_existe:\n",
    "        os.mkdir(PASTA)\n",
    "    subpasta_existe = os.path.exists(PASTA+\"/\"+SUBPASTA)\n",
    "    if not subpasta_existe:\n",
    "        os.mkdir(PASTA+\"/\"+SUBPASTA)\n",
    "\n",
    "def salvar_arquivo_de_backup(database):\n",
    "    nomeArquivo = PASTA+\"/\"+SUBPASTA+\"/\"+database\n",
    "    comando = \"mysqldump -h %s -P %s -u %s -p%s %s > %s.sql\" % (HOST, PORT, USER, PASSWORD, database, nomeArquivo)\n",
    "    os.popen(comando)\n",
    "\n",
    "if __name__==\"__main__\":\n",
    "    try:\n",
    "        with pymysql.connect(host=HOST, user=USER, password=PASSWORD, port=PORT) as connection:\n",
    "            with connection.cursor() as cursor:\n",
    "                cursor.execute(\"SHOW DATABASES\")\n",
    "                \n",
    "                for database in cursor.fetchall():\n",
    "                    nomeDatabase = database[0]\n",
    "\n",
    "                    if(\"sommusgestor\" in nomeDatabase):\n",
    "                        verificar_e_criar_pasta()\n",
    "                        salvar_arquivo_de_backup(nomeDatabase)\n",
    "\n",
    "    except Exception as e:\n",
    "        print(f\"Exceção lançada: {e}\")\n"
   ]
  }
 ],
 "metadata": {
  "kernelspec": {
   "display_name": "Python 3.10.7 64-bit (microsoft store)",
   "language": "python",
   "name": "python3"
  },
  "language_info": {
   "codemirror_mode": {
    "name": "ipython",
    "version": 3
   },
   "file_extension": ".py",
   "mimetype": "text/x-python",
   "name": "python",
   "nbconvert_exporter": "python",
   "pygments_lexer": "ipython3",
   "version": "3.10.10"
  },
  "orig_nbformat": 4,
  "vscode": {
   "interpreter": {
    "hash": "0cc338008178a1214e27db39d3f98c32ba31c00ac11362c1983256bb5ef1e9b4"
   }
  }
 },
 "nbformat": 4,
 "nbformat_minor": 2
}
