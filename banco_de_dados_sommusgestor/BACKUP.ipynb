{
 "cells": [
  {
   "attachments": {},
   "cell_type": "markdown",
   "metadata": {},
   "source": [
    "## Configuração (Somente quando necessário)"
   ]
  },
  {
   "cell_type": "code",
   "execution_count": null,
   "metadata": {},
   "outputs": [],
   "source": [
    "! pip install pymysql"
   ]
  },
  {
   "cell_type": "markdown",
   "metadata": {},
   "source": [
    "## Fazer backup dos bancos"
   ]
  },
  {
   "cell_type": "code",
   "execution_count": 2,
   "metadata": {},
   "outputs": [],
   "source": [
    "import pymysql\n",
    "import os"
   ]
  },
  {
   "cell_type": "code",
   "execution_count": 8,
   "metadata": {},
   "outputs": [],
   "source": [
    "HOST='localhost'\n",
    "PORT=3307\n",
    "USER= 'root'\n",
    "PASSWORD= 'root'\n",
    "PASTA='backups'\n",
    "SUBPASTA='posto_liberdade_assinado'\n",
    "\n",
    "def verificar_e_criar_pasta():\n",
    "    pasta_existe = os.path.exists(PASTA)\n",
    "    if not pasta_existe:\n",
    "        os.mkdir(PASTA)\n",
    "    subpasta_existe = os.path.exists(PASTA+\"/\"+SUBPASTA)\n",
    "    if not subpasta_existe:\n",
    "        os.mkdir(PASTA+\"/\"+SUBPASTA)\n",
    "\n",
    "def salvar_arquivo_de_backup(database):\n",
    "    nomeArquivo = PASTA+\"/\"+SUBPASTA+\"/\"+database\n",
    "    comando = \"mysqldump -h %s -P %s -u %s -p%s %s > %s.sql\" % (HOST, PORT, USER, PASSWORD, database, nomeArquivo)\n",
    "    os.popen(comando)\n",
    "\n",
    "def fazer_o_backup_com_mysqldump(database):\n",
    "    verificar_e_criar_pasta()\n",
    "    salvar_arquivo_de_backup(database)\n",
    "\n",
    "if __name__==\"__main__\":\n",
    "    tipoDeCursor = pymysql.cursors.DictCursor\n",
    "    connection = pymysql.connect(host=HOST, user=USER, password=PASSWORD, port=PORT, cursorclass=tipoDeCursor)\n",
    "\n",
    "    try:\n",
    "        cursor = connection.cursor()\n",
    "        cursor.execute(\"SHOW DATABASES\")\n",
    "        resultados = cursor.fetchall()\n",
    "\n",
    "        for database in resultados:\n",
    "            nomeDatabase = database['Database']\n",
    "            ehBancoDoSommusGestor = \"sommusgestor\" in nomeDatabase\n",
    "\n",
    "            if(ehBancoDoSommusGestor):\n",
    "                fazer_o_backup_com_mysqldump(nomeDatabase)\n",
    "\n",
    "    except Exception as e:\n",
    "        print(\"Exceção lançada: {}\".format(e))\n",
    "\n",
    "    finally:\n",
    "        connection.close()    "
   ]
  }
 ],
 "metadata": {
  "kernelspec": {
   "display_name": "Python 3.10.7 64-bit (microsoft store)",
   "language": "python",
   "name": "python3"
  },
  "language_info": {
   "codemirror_mode": {
    "name": "ipython",
    "version": 3
   },
   "file_extension": ".py",
   "mimetype": "text/x-python",
   "name": "python",
   "nbconvert_exporter": "python",
   "pygments_lexer": "ipython3",
   "version": "3.10.10"
  },
  "orig_nbformat": 4,
  "vscode": {
   "interpreter": {
    "hash": "0cc338008178a1214e27db39d3f98c32ba31c00ac11362c1983256bb5ef1e9b4"
   }
  }
 },
 "nbformat": 4,
 "nbformat_minor": 2
}
