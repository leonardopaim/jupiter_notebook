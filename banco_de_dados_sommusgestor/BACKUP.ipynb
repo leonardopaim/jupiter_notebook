{
 "cells": [
  {
   "attachments": {},
   "cell_type": "markdown",
   "metadata": {},
   "source": [
    "## Configuração (Somente quando necessário)"
   ]
  },
  {
   "cell_type": "code",
   "execution_count": null,
   "metadata": {},
   "outputs": [],
   "source": [
    "! pip install pymysql"
   ]
  },
  {
   "attachments": {},
   "cell_type": "markdown",
   "metadata": {},
   "source": [
    "## Fazer backup dos bancos"
   ]
  },
  {
   "cell_type": "code",
   "execution_count": 1,
   "metadata": {},
   "outputs": [],
   "source": [
    "import pymysql\n",
    "import os\n",
    "from datetime import datetime"
   ]
  },
  {
   "cell_type": "code",
   "execution_count": null,
   "metadata": {},
   "outputs": [
    {
     "name": "stdout",
     "output_type": "stream",
     "text": [
      "🔵 Realizando backup do banco localhost:3307\n",
      "✅ Backup finalizado - Local: saldos_conta_sommus_2025-04-08_00-07-31\n"
     ]
    }
   ],
   "source": [
    "HOST = 'localhost'\n",
    "PORT = 3307\n",
    "USER = 'root'\n",
    "PASSWORD = 'root'\n",
    "NOME = 'saldos_conta_sommus'\n",
    "PASTA = 'backups'\n",
    "SUBPASTA = f'{NOME}_{datetime.now().strftime(\"%Y-%m-%d_%H-%M-%S\")}'\n",
    "\n",
    "def verificar_e_criar_pasta():\n",
    "    if not os.path.exists(PASTA):\n",
    "        os.mkdir(PASTA)\n",
    "    if not os.path.exists(PASTA+\"/\"+SUBPASTA):\n",
    "        os.mkdir(PASTA+\"/\"+SUBPASTA)\n",
    "\n",
    "def salvar_arquivo_de_backup(database):\n",
    "    verificar_e_criar_pasta()\n",
    "    comando = f\"mysqldump -h {HOST} -P {PORT} -u {USER} -p{PASSWORD} {database} > {PASTA}/{SUBPASTA}/{database}.sql\"\n",
    "    os.popen(comando)\n",
    "\n",
    "if __name__==\"__main__\":\n",
    "    try:\n",
    "        with pymysql.connect(host=HOST, user=USER, password=PASSWORD, port=PORT).cursor() as cursor:\n",
    "            print(f\"🔵 Realizando backup do banco {HOST}:{PORT}\")\n",
    "\n",
    "            cursor.execute(\"SHOW DATABASES\")\n",
    "            \n",
    "            for database in cursor.fetchall():\n",
    "                nomeDatabase = database[0]\n",
    "\n",
    "                if(\"sommusgestor\" in nomeDatabase):\n",
    "                    salvar_arquivo_de_backup(nomeDatabase)\n",
    "\n",
    "        print(f\"✅ Backup finalizado - Local: {SUBPASTA}\")\n",
    "\n",
    "    except Exception as e:\n",
    "        print(f\"⛔ Exceção lançada: {e}\")\n"
   ]
  }
 ],
 "metadata": {
  "kernelspec": {
   "display_name": "Python 3",
   "language": "python",
   "name": "python3"
  },
  "language_info": {
   "codemirror_mode": {
    "name": "ipython",
    "version": 3
   },
   "file_extension": ".py",
   "mimetype": "text/x-python",
   "name": "python",
   "nbconvert_exporter": "python",
   "pygments_lexer": "ipython3",
   "version": "3.11.9"
  },
  "orig_nbformat": 4
 },
 "nbformat": 4,
 "nbformat_minor": 2
}
