{
 "cells": [
  {
   "attachments": {},
   "cell_type": "markdown",
   "metadata": {},
   "source": [
    "## Configuração (Somente quando necessário)"
   ]
  },
  {
   "cell_type": "code",
   "execution_count": null,
   "metadata": {},
   "outputs": [],
   "source": [
    "! pip install pymysql"
   ]
  },
  {
   "attachments": {},
   "cell_type": "markdown",
   "metadata": {},
   "source": [
    "## Fazer backup dos bancos"
   ]
  },
  {
   "cell_type": "code",
   "execution_count": null,
   "metadata": {},
   "outputs": [],
   "source": [
    "import pymysql\n",
    "import os\n",
    "from datetime import datetime"
   ]
  },
  {
   "cell_type": "code",
   "execution_count": null,
   "metadata": {},
   "outputs": [],
   "source": [
    "HOST = 'localhost'\n",
    "PORT = 25178\n",
    "USER = 'root'\n",
    "PASSWORD = 'pxoxrxtxoxpxdxvxpxoxrxtxoxsxoxfxt'\n",
    "NOME = 'apresentacao_reginaldo'\n",
    "PASTA = 'backups_sommuspdv'\n",
    "SUBPASTA = f'{NOME}_{datetime.now().strftime(\"%Y-%m-%d_%H-%M-%S\")}'\n",
    "\n",
    "def verificar_e_criar_pasta():\n",
    "    if not os.path.exists(PASTA):\n",
    "        os.mkdir(PASTA)\n",
    "    if not os.path.exists(PASTA+\"/\"+SUBPASTA):\n",
    "        os.mkdir(PASTA+\"/\"+SUBPASTA)\n",
    "\n",
    "def salvar_arquivo_de_backup(database):\n",
    "    verificar_e_criar_pasta()\n",
    "    comando = f\"mysqldump -h {HOST} -P {PORT} -u {USER} -p{PASSWORD} {database} > {PASTA}/{SUBPASTA}/{database}.sql\"\n",
    "    os.popen(comando)\n",
    "\n",
    "if __name__==\"__main__\":\n",
    "    try:\n",
    "        with pymysql.connect(host=HOST, user=USER, password=PASSWORD, port=PORT).cursor() as cursor:\n",
    "            cursor.execute(\"SHOW DATABASES\")\n",
    "            \n",
    "            for database in cursor.fetchall():\n",
    "                nomeDatabase = database[0]\n",
    "\n",
    "                if(\"portopdv\" in nomeDatabase):\n",
    "                    salvar_arquivo_de_backup(nomeDatabase)\n",
    "\n",
    "        print(\"✅ Backup finalizado!\")\n",
    "\n",
    "    except Exception as e:\n",
    "        print(f\"⛔ Exceção lançada: {e}\")\n"
   ]
  }
 ],
 "metadata": {
  "kernelspec": {
   "display_name": "Python 3.10.7 64-bit (microsoft store)",
   "language": "python",
   "name": "python3"
  },
  "language_info": {
   "codemirror_mode": {
    "name": "ipython",
    "version": 3
   },
   "file_extension": ".py",
   "mimetype": "text/x-python",
   "name": "python",
   "nbconvert_exporter": "python",
   "pygments_lexer": "ipython3",
   "version": "3.10.11"
  },
  "orig_nbformat": 4,
  "vscode": {
   "interpreter": {
    "hash": "0cc338008178a1214e27db39d3f98c32ba31c00ac11362c1983256bb5ef1e9b4"
   }
  }
 },
 "nbformat": 4,
 "nbformat_minor": 2
}
