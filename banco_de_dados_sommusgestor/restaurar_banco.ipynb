{
 "cells": [
  {
   "cell_type": "code",
   "execution_count": null,
   "metadata": {},
   "outputs": [],
   "source": [
    "! pip install mysql.connector\n",
    "! pip install pymysql;"
   ]
  },
  {
   "cell_type": "markdown",
   "metadata": {},
   "source": [
    "## Restaurar danco de dados"
   ]
  },
  {
   "cell_type": "code",
   "execution_count": 1,
   "metadata": {},
   "outputs": [],
   "source": [
    "import pymysql\n",
    "import os\n",
    "import time"
   ]
  },
  {
   "cell_type": "code",
   "execution_count": 4,
   "metadata": {},
   "outputs": [],
   "source": [
    "HOST='localhost'\n",
    "PORT='3307'\n",
    "DB_USER='root'\n",
    "DB_PASS='root'\n",
    "PASTA=\"backup_financas_2\"\n",
    "\n",
    "def restaurar(database_name):\n",
    "    comando = \"mysql -h %s -P %s -u %s -p%s %s < %s/%s.sql\" % (HOST, PORT, DB_USER, DB_PASS, database_name, PASTA, database_name)\n",
    "    os.popen(comando)\n",
    "\n",
    "if __name__==\"__main__\":\n",
    "    cusrorType = pymysql.cursors.DictCursor\n",
    "    connection = pymysql.connect(host=\"localhost\", user=\"root\", password=\"root\", port=3307, cursorclass=cusrorType)\n",
    "    \n",
    "    try:\n",
    "        cursor = connection.cursor()\n",
    "        cursor.execute(\"SHOW DATABASES\")\n",
    "        resultados = cursor.fetchall()\n",
    "\n",
    "        for database in resultados:\n",
    "            nomeDatabase = database['Database']\n",
    "            ehBancoDoSommusGestor = \"sommusgestor\" in nomeDatabase\n",
    "\n",
    "            if(ehBancoDoSommusGestor):\n",
    "                restaurar(nomeDatabase)\n",
    "\n",
    "    except Exception as e:\n",
    "        print(\"Exeception occured:{}\".format(e))\n",
    "\n",
    "    finally:\n",
    "        connection.close()  "
   ]
  }
 ],
 "metadata": {
  "kernelspec": {
   "display_name": "Python 3.10.7 64-bit (microsoft store)",
   "language": "python",
   "name": "python3"
  },
  "language_info": {
   "codemirror_mode": {
    "name": "ipython",
    "version": 3
   },
   "file_extension": ".py",
   "mimetype": "text/x-python",
   "name": "python",
   "nbconvert_exporter": "python",
   "pygments_lexer": "ipython3",
   "version": "3.10.10"
  },
  "orig_nbformat": 4,
  "vscode": {
   "interpreter": {
    "hash": "0cc338008178a1214e27db39d3f98c32ba31c00ac11362c1983256bb5ef1e9b4"
   }
  }
 },
 "nbformat": 4,
 "nbformat_minor": 2
}
