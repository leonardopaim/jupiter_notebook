{
 "cells": [
  {
   "attachments": {},
   "cell_type": "markdown",
   "metadata": {},
   "source": [
    "## Configuração (Somente quando necessário)"
   ]
  },
  {
   "cell_type": "code",
   "execution_count": null,
   "metadata": {},
   "outputs": [],
   "source": [
    "! pip install pymysql"
   ]
  },
  {
   "attachments": {},
   "cell_type": "markdown",
   "metadata": {},
   "source": [
    "## Criar bancos de dados de testes do SommusGestor\n",
    "Criar os bancos iniciais para restaurar os dados"
   ]
  },
  {
   "cell_type": "code",
   "execution_count": 1,
   "metadata": {},
   "outputs": [],
   "source": [
    "import pymysql"
   ]
  },
  {
   "cell_type": "code",
   "execution_count": 2,
   "metadata": {},
   "outputs": [],
   "source": [
    "HOST = \"localhost\"\n",
    "USER = \"root\"\n",
    "PASSWORD = \"root\"\n",
    "PORT = 3307\n",
    "DATABASES = [\"sommusgestor\", \"sommusgestor_1\", \"sommusgestor_2\", \"sommusgestor_8\", \"sommusgestor_9\", \"sommusgestor_hangfire\"]\n",
    "\n",
    "if __name__ == \"__main__\":\n",
    "    try:\n",
    "        with pymysql.connect(host=HOST, user=USER, password=PASSWORD, port=PORT).cursor() as cursor:\n",
    "            for database in DATABASES:\n",
    "                cursor.execute(f\"CREATE DATABASE IF NOT EXISTS {database}\")\n",
    "\n",
    "    except Exception as e:\n",
    "        print(f\"Exceção lançada: {e}\")\n"
   ]
  }
 ],
 "metadata": {
  "kernelspec": {
   "display_name": "Python 3.10.7 64-bit (microsoft store)",
   "language": "python",
   "name": "python3"
  },
  "language_info": {
   "codemirror_mode": {
    "name": "ipython",
    "version": 3
   },
   "file_extension": ".py",
   "mimetype": "text/x-python",
   "name": "python",
   "nbconvert_exporter": "python",
   "pygments_lexer": "ipython3",
   "version": "3.10.11"
  },
  "orig_nbformat": 4,
  "vscode": {
   "interpreter": {
    "hash": "0cc338008178a1214e27db39d3f98c32ba31c00ac11362c1983256bb5ef1e9b4"
   }
  }
 },
 "nbformat": 4,
 "nbformat_minor": 2
}
