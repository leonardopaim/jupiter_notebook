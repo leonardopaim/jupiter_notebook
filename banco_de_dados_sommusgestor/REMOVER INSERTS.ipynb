{
 "cells": [
  {
   "attachments": {},
   "cell_type": "markdown",
   "metadata": {},
   "source": [
    "## Configuração (Somente quando necessário)"
   ]
  },
  {
   "cell_type": "code",
   "execution_count": null,
   "metadata": {},
   "outputs": [],
   "source": [
    "! pip install pymysql"
   ]
  },
  {
   "attachments": {},
   "cell_type": "markdown",
   "metadata": {},
   "source": [
    "# Configuração"
   ]
  },
  {
   "cell_type": "code",
   "execution_count": 3,
   "metadata": {},
   "outputs": [],
   "source": [
    "import re\n",
    "import os\n",
    "\n",
    "# lista de tabelas a serem removidas no banco empresa\n",
    "TABELAS_BANCO_EMPRESA = [\n",
    "    \"log\", \n",
    "    \"log_empresa\", \n",
    "    \"solicitacao\", \n",
    "    \"solicitacao_anexo\",\n",
    "    \"solicitacao_atividade\",\n",
    "    \"solicitacao_avaliacao\",\n",
    "    \"solicitacao_categoria\",\n",
    "    \"solicitacao_categoria_empresa\",\n",
    "    \"solicitacao_cobranca\",\n",
    "    \"solicitacao_comentario\",\n",
    "    \"solicitacao_documento\",\n",
    "    \"solicitacao_lista\",\n",
    "    \"solicitacao_lista_item\",\n",
    "    \"solicitacao_origem\",\n",
    "    \"solicitacao_origem_empresa\",\n",
    "    \"solicitacao_recorrente\",\n",
    "    \"solicitacao_recorrente_cliente\",\n",
    "    \"solicitacao_recorrente_cobranca\",\n",
    "    \"solicitacao_recorrente_documento\",\n",
    "    \"solicitacao_referente\",\n",
    "    \"solicitacao_sla_atividade\",\n",
    "    \"solicitacao_tarefa\",\n",
    "    \"solicitacao_tipo\",\n",
    "    \"solicitacao_tipo_empresa\",\n",
    "    \"tarefa\",\n",
    "    \"tarefa_tempo\",\n",
    "    \"movimento_conta_contabil\",\n",
    "    \"integracao_bancaria_boleto\",\n",
    "    \"faturamento_contrato_receber\",\n",
    "    \"faturamento_contrato\",\n",
    "    \"movimento\",\n",
    "    \"movimento_categoria\",\n",
    "    \"movimento_forma_pagamento\",\n",
    "    \"receber_boleto\",\n",
    "    \"receber\",\n",
    "    \"recebimento_receber_categoria\",\n",
    "    \"receber_categoria\",\n",
    "    \"recebimento_receber\",\n",
    "    \"movimento_centro_resultado\",\n",
    "    \"ibpt\",\n",
    "    \"folha_pagamento_lancamento\",\n",
    "    \"conta_saldo\",\n",
    "    \"nfse_item\",\n",
    "    \"nfse\",\n",
    "    \"pessoa_contato\",\n",
    "    \"pessoa_tipo\",\n",
    "    \"pessoa\",\n",
    "    \"cliente_contrato_atividade\",\n",
    "    \"recebimento\",\n",
    "    \"pessoa_empresa\",\n",
    "    \"conta_contabil_saldo\",\n",
    "    \"pagar\",\n",
    "    \"pagar_categoria\",\n",
    "    \"cliente_contrato\",\n",
    "    \"pagamento_pagar_categoria\",\n",
    "    \"pessoa_endereco\",\n",
    "    \"pagamento_pagar\",\n",
    "    \"integracao_bancaria\",\n",
    "    \"cliente_solicitante\",\n",
    "    \"pagamento\",\n",
    "    \"pagar_centro_resultado\",\n",
    "]\n",
    "\n",
    "# lista de tabelas a serem removidas no banco principal\n",
    "TABELAS_BANCO_PRINCIPAL = [\n",
    "    \"usuario_atividade\", \n",
    "    \"aws_reset\", \n",
    "    \"pensebank_sommus_extrato\", \n",
    "    \"log\",\n",
    "    \"log_empresa\",\n",
    "    \"aws_receber\",\n",
    "    \"empresa_pix\",\n",
    "    \"aws_cliente\",\n",
    "\n",
    "]"
   ]
  },
  {
   "attachments": {},
   "cell_type": "markdown",
   "metadata": {},
   "source": [
    "## Processar Arquivos"
   ]
  },
  {
   "cell_type": "code",
   "execution_count": 4,
   "metadata": {},
   "outputs": [
    {
     "name": "stdout",
     "output_type": "stream",
     "text": [
      "✅ Processo finalizado!\n"
     ]
    }
   ],
   "source": [
    "#LOCAL_DOS_ARQUIVOS = \"C:/Users/Leonardo/Desktop\"\n",
    "LOCAL_DOS_ARQUIVOS = \"./backups/ambiente_reginaldo_2023-12-20_10-54-51\"\n",
    "\n",
    "try:\n",
    "\n",
    "    for arquivo in os.listdir(LOCAL_DOS_ARQUIVOS):\n",
    "\n",
    "        if arquivo.endswith(\".sql\") and arquivo.startswith(\"sommusgestor\"):\n",
    "            caminho_arquivo = os.path.join(LOCAL_DOS_ARQUIVOS, arquivo)\n",
    "\n",
    "            # criar uma lista para armazenar as linhas do script que não são de INSERT\n",
    "            novo_script = []\n",
    "        \n",
    "            # abrir o arquivo .sql para leitura\n",
    "            with open(caminho_arquivo, \"r\", encoding='utf-8') as file:\n",
    "                # ler todo o conteúdo do arquivo\n",
    "                sql_script = file.read()\n",
    "\n",
    "                # dividir o script em linhas\n",
    "                linhas = sql_script.split(\"\\n\")\n",
    "\n",
    "                # criar uma expressão regular para encontrar linhas de INSERT\n",
    "                tabelas = TABELAS_BANCO_PRINCIPAL if arquivo == 'sommusgestor.sql' else TABELAS_BANCO_EMPRESA\n",
    "                padrao_insert = re.compile(\"^INSERT INTO `(\" + \"|\".join(tabelas) + \")`\")\n",
    "\n",
    "                # percorrer cada linha do script\n",
    "                for linha in linhas:\n",
    "                    # verificar se a linha é de INSERT em uma das tabelas a serem removidas\n",
    "                    if padrao_insert.search(linha):\n",
    "                        continue\n",
    "                    else:\n",
    "                        # adicionar a linha ao novo script\n",
    "                        novo_script.append(linha)\n",
    "\n",
    "            # Nome do novo arquivo é o mesmo que o arquivo antigo\n",
    "            novo_arquivo = caminho_arquivo\n",
    "\n",
    "            # Nome do arquivo antigo com sufixo \"old\"\n",
    "            arquivo_antigo = caminho_arquivo.replace(\".sql\", \"_old.sql\")\n",
    "\n",
    "            # Renomear o arquivo antigo\n",
    "            os.rename(caminho_arquivo, arquivo_antigo)\n",
    "\n",
    "            # abrir o arquivo .sql para escrita e escrever o novo script\n",
    "            with open(novo_arquivo, \"w\", encoding='utf-8') as file:\n",
    "                file.write(\"\\n\".join(novo_script))\n",
    "\n",
    "    print(\"✅ Processo finalizado!\")\n",
    "\n",
    "except Exception as e:\n",
    "    print(f\"⛔ Exceção lançada: {e}\")"
   ]
  }
 ],
 "metadata": {
  "kernelspec": {
   "display_name": "Python 3.10.7 64-bit (microsoft store)",
   "language": "python",
   "name": "python3"
  },
  "language_info": {
   "codemirror_mode": {
    "name": "ipython",
    "version": 3
   },
   "file_extension": ".py",
   "mimetype": "text/x-python",
   "name": "python",
   "nbconvert_exporter": "python",
   "pygments_lexer": "ipython3",
   "version": "3.10.11"
  },
  "orig_nbformat": 4,
  "vscode": {
   "interpreter": {
    "hash": "0cc338008178a1214e27db39d3f98c32ba31c00ac11362c1983256bb5ef1e9b4"
   }
  }
 },
 "nbformat": 4,
 "nbformat_minor": 2
}
