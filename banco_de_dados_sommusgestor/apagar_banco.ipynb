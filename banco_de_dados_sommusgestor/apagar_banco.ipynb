{
 "cells": [
  {
   "cell_type": "code",
   "execution_count": null,
   "metadata": {},
   "outputs": [],
   "source": [
    "#! pip install mysql.connector\n",
    "#! pip install pymysql;"
   ]
  },
  {
   "cell_type": "markdown",
   "metadata": {},
   "source": [
    "## Apagar bancos de dados do SommusGestor"
   ]
  },
  {
   "cell_type": "code",
   "execution_count": 1,
   "metadata": {},
   "outputs": [],
   "source": [
    "# IMPORTS\n",
    "import pymysql"
   ]
  },
  {
   "cell_type": "code",
   "execution_count": 2,
   "metadata": {},
   "outputs": [],
   "source": [
    "# APAGAR BANCOS DE DADOS DO SOMMUSGESTOR\n",
    "\n",
    "cusrorType = pymysql.cursors.DictCursor\n",
    "connection = pymysql.connect(host=\"localhost\", user=\"root\", password=\"root\", port=3307, cursorclass=cusrorType)\n",
    "\n",
    "try:\n",
    "    cursor = connection.cursor()\n",
    "    cursor.execute(\"SHOW DATABASES\")\n",
    "    resultados = cursor.fetchall()\n",
    "\n",
    "    for database in resultados:\n",
    "        nomeDatabase = database['Database']\n",
    "\n",
    "        if(\"sommusgestor\" in nomeDatabase):\n",
    "            cursor.execute(f\"DROP DATABASE {nomeDatabase}\")\n",
    "\n",
    "except Exception as e:\n",
    "    print(\"Exeception occured:{}\".format(e))\n",
    "\n",
    "finally:\n",
    "    connection.close()"
   ]
  }
 ],
 "metadata": {
  "kernelspec": {
   "display_name": "Python 3.10.7 64-bit (microsoft store)",
   "language": "python",
   "name": "python3"
  },
  "language_info": {
   "codemirror_mode": {
    "name": "ipython",
    "version": 3
   },
   "file_extension": ".py",
   "mimetype": "text/x-python",
   "name": "python",
   "nbconvert_exporter": "python",
   "pygments_lexer": "ipython3",
   "version": "3.10.9"
  },
  "orig_nbformat": 4,
  "vscode": {
   "interpreter": {
    "hash": "0cc338008178a1214e27db39d3f98c32ba31c00ac11362c1983256bb5ef1e9b4"
   }
  }
 },
 "nbformat": 4,
 "nbformat_minor": 2
}
