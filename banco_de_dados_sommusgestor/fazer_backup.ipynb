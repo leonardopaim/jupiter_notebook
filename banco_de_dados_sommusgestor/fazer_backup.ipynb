{
 "cells": [
  {
   "cell_type": "code",
   "execution_count": null,
   "metadata": {},
   "outputs": [],
   "source": [
    "#! pip install mysql.connector\n",
    "#! pip install pymysql;"
   ]
  },
  {
   "cell_type": "markdown",
   "metadata": {},
   "source": [
    "## Fazer backup dos bancos"
   ]
  },
  {
   "cell_type": "code",
   "execution_count": 1,
   "metadata": {},
   "outputs": [],
   "source": [
    "# IMPORTS\n",
    "import pymysql\n",
    "import os"
   ]
  },
  {
   "cell_type": "code",
   "execution_count": 3,
   "metadata": {},
   "outputs": [],
   "source": [
    "# REALIZAR BACKUP DE TODOS OS DATABASES\n",
    "\n",
    "HOST='localhost' #'db.sommusgestor.com'\n",
    "PORT='3307' #'3306'\n",
    "DB_USER= 'root' #'leonardo'\n",
    "DB_PASS= 'root' #'1c7598f5ed6ff3206ff16c0aabfc653a'\n",
    "PASTA='Sommus'\n",
    "\n",
    "def get_dump(database):\n",
    "    # TABELAS_DESNECESSARIAS=['solicitacao', 'solicitacao_atividade', 'solicitacao_comentario', 'log', 'log_empresa']\n",
    "    # ignore = ''\n",
    "\n",
    "    # if database != 'sommusgestor':\n",
    "    #     for tabela in TABELAS_DESNECESSARIAS:\n",
    "    #         ignore += '--ignore-table='+database+'.'+tabela+' '\n",
    "\n",
    "    nomeArquivo = PASTA+\"/\"+database\n",
    "    # comando = \"mysqldump -h %s -P %s -u %s -p%s %s %s > %s.sql\" % (HOST, PORT, DB_USER, DB_PASS, database, ignore, nomeArquivo)\n",
    "    comando = \"mysqldump -h %s -P %s -u %s -p%s %s > %s.sql\" % (HOST, PORT, DB_USER, DB_PASS, database, nomeArquivo)\n",
    "    os.popen(comando)\n",
    "\n",
    "if __name__==\"__main__\":\n",
    "    cusrorType = pymysql.cursors.DictCursor\n",
    "    connection = pymysql.connect(host=\"localhost\", user=\"root\", password=\"root\", port=3307, cursorclass=cusrorType)\n",
    "\n",
    "    try:\n",
    "        cursor = connection.cursor()\n",
    "        cursor.execute(\"SHOW DATABASES\")\n",
    "        resultados = cursor.fetchall()\n",
    "\n",
    "        for database in resultados:\n",
    "            nomeDatabase = database['Database']\n",
    "\n",
    "            if(\"sommusgestor\" in nomeDatabase):\n",
    "                get_dump(nomeDatabase)\n",
    "\n",
    "    except Exception as e:\n",
    "        print(\"Exeception occured:{}\".format(e))\n",
    "\n",
    "    finally:\n",
    "        connection.close()    "
   ]
  }
 ],
 "metadata": {
  "kernelspec": {
   "display_name": "Python 3.10.7 64-bit (microsoft store)",
   "language": "python",
   "name": "python3"
  },
  "language_info": {
   "codemirror_mode": {
    "name": "ipython",
    "version": 3
   },
   "file_extension": ".py",
   "mimetype": "text/x-python",
   "name": "python",
   "nbconvert_exporter": "python",
   "pygments_lexer": "ipython3",
   "version": "3.10.9"
  },
  "orig_nbformat": 4,
  "vscode": {
   "interpreter": {
    "hash": "0cc338008178a1214e27db39d3f98c32ba31c00ac11362c1983256bb5ef1e9b4"
   }
  }
 },
 "nbformat": 4,
 "nbformat_minor": 2
}
