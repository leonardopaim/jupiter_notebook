{
 "cells": [
  {
   "attachments": {},
   "cell_type": "markdown",
   "metadata": {},
   "source": [
    "## Configuração (Somente quando necessário)"
   ]
  },
  {
   "cell_type": "code",
   "execution_count": null,
   "metadata": {},
   "outputs": [],
   "source": [
    "! pip install pymysql;"
   ]
  },
  {
   "cell_type": "markdown",
   "metadata": {},
   "source": [
    "## Restaurar danco de dados"
   ]
  },
  {
   "cell_type": "code",
   "execution_count": 2,
   "metadata": {},
   "outputs": [],
   "source": [
    "import pymysql\n",
    "import os"
   ]
  },
  {
   "cell_type": "code",
   "execution_count": 3,
   "metadata": {},
   "outputs": [],
   "source": [
    "HOST = 'localhost'\n",
    "PORTA = 3307\n",
    "USUARIO = 'root'\n",
    "PASSWORD = 'root'\n",
    "PASTA = 'backups'\n",
    "SUBPASTA = 'branch_financas_2023-05-09_08-43-59'\n",
    "DIRETORIO_BACKUP = f'{PASTA}/{SUBPASTA}'\n",
    "\n",
    "def restaurar(banco):\n",
    "    comando = f'mysql -h {HOST} -P {PORTA} -u {USUARIO} -p{PASSWORD} {banco} < {DIRETORIO_BACKUP}/{banco}.sql'\n",
    "    os.popen(comando)\n",
    "\n",
    "if __name__ == '__main__':\n",
    "\n",
    "    try:\n",
    "        with pymysql.connect(host=HOST, user=USUARIO, password=PASSWORD, port=PORTA).cursor() as cursor:\n",
    "            cursor.execute('SHOW DATABASES')\n",
    "            \n",
    "            bancos_sommusgestor = [db[0] for db in cursor.fetchall() if 'sommusgestor' in db[0]]\n",
    "            \n",
    "            for banco in bancos_sommusgestor:\n",
    "                restaurar(banco)\n",
    "            \n",
    "    except Exception as e:\n",
    "        print(f'Exceção lançada: {e}')\n",
    "\n",
    " "
   ]
  }
 ],
 "metadata": {
  "kernelspec": {
   "display_name": "Python 3.10.7 64-bit (microsoft store)",
   "language": "python",
   "name": "python3"
  },
  "language_info": {
   "codemirror_mode": {
    "name": "ipython",
    "version": 3
   },
   "file_extension": ".py",
   "mimetype": "text/x-python",
   "name": "python",
   "nbconvert_exporter": "python",
   "pygments_lexer": "ipython3",
   "version": "3.10.11"
  },
  "orig_nbformat": 4,
  "vscode": {
   "interpreter": {
    "hash": "0cc338008178a1214e27db39d3f98c32ba31c00ac11362c1983256bb5ef1e9b4"
   }
  }
 },
 "nbformat": 4,
 "nbformat_minor": 2
}
