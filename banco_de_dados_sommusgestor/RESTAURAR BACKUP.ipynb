{
 "cells": [
  {
   "attachments": {},
   "cell_type": "markdown",
   "metadata": {},
   "source": [
    "## Configuração (Somente quando necessário)"
   ]
  },
  {
   "cell_type": "code",
   "execution_count": 7,
   "metadata": {},
   "outputs": [
    {
     "name": "stdout",
     "output_type": "stream",
     "text": [
      "Requirement already satisfied: pymysql in c:\\users\\leohp\\appdata\\local\\programs\\python\\python311\\lib\\site-packages (1.1.0)\n"
     ]
    },
    {
     "name": "stderr",
     "output_type": "stream",
     "text": [
      "\n",
      "[notice] A new release of pip is available: 24.0 -> 25.0.1\n",
      "[notice] To update, run: python.exe -m pip install --upgrade pip\n"
     ]
    },
    {
     "name": "stdout",
     "output_type": "stream",
     "text": [
      "Requirement already satisfied: cryptography in c:\\users\\leohp\\appdata\\local\\programs\\python\\python311\\lib\\site-packages (44.0.1)\n",
      "Requirement already satisfied: cffi>=1.12 in c:\\users\\leohp\\appdata\\local\\programs\\python\\python311\\lib\\site-packages (from cryptography) (1.17.1)\n",
      "Requirement already satisfied: pycparser in c:\\users\\leohp\\appdata\\local\\programs\\python\\python311\\lib\\site-packages (from cffi>=1.12->cryptography) (2.22)\n"
     ]
    },
    {
     "name": "stderr",
     "output_type": "stream",
     "text": [
      "\n",
      "[notice] A new release of pip is available: 24.0 -> 25.0.1\n",
      "[notice] To update, run: python.exe -m pip install --upgrade pip\n"
     ]
    }
   ],
   "source": [
    "! pip install pymysql;\n",
    "! pip install cryptography;"
   ]
  },
  {
   "attachments": {},
   "cell_type": "markdown",
   "metadata": {},
   "source": [
    "## Restaurar danco de dados"
   ]
  },
  {
   "cell_type": "code",
   "execution_count": 1,
   "metadata": {},
   "outputs": [],
   "source": [
    "import pymysql\n",
    "import os\n",
    "import time\n",
    "from datetime import datetime\n",
    "import subprocess\n",
    "from concurrent.futures import ThreadPoolExecutor\n",
    "\n",
    "def listar_databases_atuais(cursor):\n",
    "    cursor.execute('SHOW DATABASES')\n",
    "    bancos_sommusgestor = [db[0] for db in cursor.fetchall() if 'sommusgestor' in db[0]]\n",
    "    return bancos_sommusgestor\n",
    "\n",
    "def deletar_database(cursor, nome):\n",
    "    # if(nome == \"sommusgestor_887\"):\n",
    "        cursor.execute(f\"DROP DATABASE {nome}\")\n",
    "\n",
    "def criar_database(cursor, nome):\n",
    "    if(nome.startswith(\"sommusgestor\") and not nome.endswith(\"_old\")):\n",
    "        cursor.execute(f\"CREATE DATABASE IF NOT EXISTS {nome}\")\n",
    "\n",
    "def restaurar(banco, host, porta, usuario, password, diretorio):\n",
    "    if(banco.startswith(\"sommusgestor\") and not banco.endswith(\"_old\")):\n",
    "    # if(banco.startswith(\"sommusgestor\") and not banco.endswith(\"_old\") and banco == \"sommusgestor_887\"):\n",
    "        comando = f'mysql -h {host} -P {porta} -u {usuario} -p{password} --default-character-set=utf8mb4 {banco} < {diretorio}/{banco}.sql'\n",
    "        subprocess.run(comando, shell=True, encoding='utf-8')\n",
    "        print(f\"  🔵 - {banco}\")\n"
   ]
  },
  {
   "cell_type": "code",
   "execution_count": 2,
   "metadata": {},
   "outputs": [
    {
     "name": "stdout",
     "output_type": "stream",
     "text": [
      "🟡 Restauração iniciada: sommus_2025-03-31_11-43-09\n",
      "====================================================\n",
      "🔵 [1/3] - Deletando os bancos de dados\n",
      "🔵 [2/3] - Criando os databases\n",
      "🔵 [3/3] - Restaurando os dados\n",
      "  🔵 - sommusgestor\n",
      "  🔵 - sommusgestor_1\n",
      "  🔵 - sommusgestor_2\n",
      "  🔵 - sommusgestor_8\n",
      "  🔵 - sommusgestor_9\n",
      "  🔵 - sommusgestor_hangfire\n",
      "====================================================\n",
      "✅ Restauração finalizada em 04/04/2025 às 10:37:48\n"
     ]
    }
   ],
   "source": [
    "HOST = 'localhost'\n",
    "PORTA = 3307\n",
    "USUARIO = 'root'\n",
    "PASSWORD = 'root'\n",
    "PASTA = 'backups'\n",
    "SUBPASTA = 'sommus_2025-03-31_11-43-09'\n",
    "DIRETORIO_BACKUP = f'{PASTA}/{SUBPASTA}'\n",
    "\n",
    "if __name__ == '__main__':\n",
    "    try:\n",
    "        with pymysql.connect(host=HOST, user=USUARIO, password=PASSWORD, port=PORTA).cursor() as cursor:\n",
    "            mensagem_inicial = f\"🟡 Restauração iniciada: {SUBPASTA}\"\n",
    "            print(mensagem_inicial)\n",
    "            print(\"=\" * (len(mensagem_inicial) + 2))\n",
    "            bancos_sommusgestor = listar_databases_atuais(cursor)\n",
    "            \n",
    "            print(\"🔵 [1/3] - Deletando os bancos de dados\")\n",
    "            for banco in bancos_sommusgestor:\n",
    "                deletar_database(cursor, banco)            \n",
    "\n",
    "            arquivos_sql_backup = os.listdir(DIRETORIO_BACKUP)\n",
    "\n",
    "            print(\"🔵 [2/3] - Criando os databases\")\n",
    "            for arquivo in arquivos_sql_backup:\n",
    "                nome_arquivo_sem_extensao = os.path.splitext(arquivo)[0]\n",
    "                criar_database(cursor, nome_arquivo_sem_extensao)        \n",
    "\n",
    "            print(\"🔵 [3/3] - Restaurando os dados\")\n",
    "            for arquivo in arquivos_sql_backup:\n",
    "                nome_arquivo_sem_extensao = os.path.splitext(arquivo)[0]\n",
    "                restaurar(nome_arquivo_sem_extensao, HOST, PORTA, USUARIO, PASSWORD, DIRETORIO_BACKUP)\n",
    "\n",
    "        mensagem_final = f\"✅ Restauração finalizada em {datetime.now().strftime('%d/%m/%Y às %H:%M:%S')}\"\n",
    "        print(\"=\" * (len(mensagem_final) + 2))\n",
    "        print(mensagem_final)\n",
    "\n",
    "    except Exception as e:\n",
    "        print(f'⛔ [Exceção lançada] \\n{e}')\n",
    "\n",
    " "
   ]
  }
 ],
 "metadata": {
  "kernelspec": {
   "display_name": "Python 3",
   "language": "python",
   "name": "python3"
  },
  "language_info": {
   "codemirror_mode": {
    "name": "ipython",
    "version": 3
   },
   "file_extension": ".py",
   "mimetype": "text/x-python",
   "name": "python",
   "nbconvert_exporter": "python",
   "pygments_lexer": "ipython3",
   "version": "3.11.9"
  },
  "orig_nbformat": 4
 },
 "nbformat": 4,
 "nbformat_minor": 2
}
