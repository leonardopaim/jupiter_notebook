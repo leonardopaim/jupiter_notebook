{
 "cells": [
  {
   "attachments": {},
   "cell_type": "markdown",
   "metadata": {},
   "source": [
    "## Configuração (Somente quando necessário)"
   ]
  },
  {
   "cell_type": "code",
   "execution_count": null,
   "metadata": {},
   "outputs": [],
   "source": [
    "! pip install pymysql;"
   ]
  },
  {
   "attachments": {},
   "cell_type": "markdown",
   "metadata": {},
   "source": [
    "## Restaurar danco de dados"
   ]
  },
  {
   "cell_type": "code",
   "execution_count": 1,
   "metadata": {},
   "outputs": [],
   "source": [
    "import pymysql\n",
    "import os\n",
    "import time\n",
    "from datetime import datetime\n",
    "import subprocess\n",
    "import ctypes\n",
    "\n",
    "def listar_databases_atuais(cursor):\n",
    "    cursor.execute('SHOW DATABASES')\n",
    "    bancos_sommusgestor = [db[0] for db in cursor.fetchall() if 'sommusgestor' in db[0]]\n",
    "    return bancos_sommusgestor\n",
    "\n",
    "def deletar_database(cursor, nome):\n",
    "    cursor.execute(f\"DROP DATABASE {nome}\")\n",
    "\n",
    "def criar_database(cursor, nome):\n",
    "    if(nome.startswith(\"sommusgestor\") and not nome.endswith(\"_old\")):\n",
    "        cursor.execute(f\"CREATE DATABASE IF NOT EXISTS {nome}\")\n",
    "\n",
    "def restaurar(banco, host, porta, usuario, password, diretorio):\n",
    "    if(banco.startswith(\"sommusgestor\") and not banco.endswith(\"_old\")):\n",
    "        comando = f'mysql -h {host} -P {porta} -u {usuario} -p{password} {banco} < {diretorio}/{banco}.sql'\n",
    "        processo = subprocess.run(comando, shell=True, stdout=subprocess.PIPE, stderr=subprocess.PIPE)\n",
    "        if processo.returncode == 0:\n",
    "            print(f\"   ⚪ Banco {banco}\")\n",
    "        else:\n",
    "            raise Exception(f'Banco [{banco}] \\n{processo.stderr.decode()}')\n",
    "\n",
    "# Constantes para os tipos de botões\n",
    "MB_YESNO = 4\n",
    "IDYES = 6\n",
    "IDNO = 7\n",
    "\n",
    "# Função para exibir uma caixa de diálogo do Windows\n",
    "def exibir_caixa_mensagem(titulo, mensagem):\n",
    "    resposta = ctypes.windll.user32.MessageBoxW(0, mensagem, titulo, MB_YESNO)\n",
    "    return resposta == IDYES\n",
    "\n",
    "class ProcessoCanceladoException(Exception):\n",
    "    pass"
   ]
  },
  {
   "cell_type": "code",
   "execution_count": 2,
   "metadata": {},
   "outputs": [
    {
     "name": "stdout",
     "output_type": "stream",
     "text": [
      "🟡 Restauração iniciada: master_playlist_2023-12-29_08-58-49\n",
      "🔵 [1/3] - Deletando os bancos de dados\n",
      "🔵 [2/3] - Criando os databases\n",
      "🔵 [3/3] - Restaurando os dados\n",
      "   ⚪ Banco sommusgestor\n",
      "   ⚪ Banco sommusgestor_1\n",
      "   ⚪ Banco sommusgestor_2\n",
      "   ⚪ Banco sommusgestor_8\n",
      "   ⚪ Banco sommusgestor_9\n",
      "   ⚪ Banco sommusgestor_hangfire\n",
      "✅ Restauração finalizada em 29/12/2023 às 11:57:50\n"
     ]
    }
   ],
   "source": [
    "HOST = 'localhost'\n",
    "PORTA = 3307\n",
    "USUARIO = 'root'\n",
    "PASSWORD = 'root'\n",
    "PASTA = 'backups'\n",
    "SUBPASTA = 'master_playlist_2023-12-29_08-58-49'\n",
    "DIRETORIO_BACKUP = f'{PASTA}/{SUBPASTA}'\n",
    "\n",
    "if __name__ == '__main__':\n",
    "    try:\n",
    "        seguir = exibir_caixa_mensagem(\"Confirmação\", f\"Deseja restaurar backup '{SUBPASTA}' no banco {HOST}:{PORTA}?\")\n",
    "\n",
    "        if not seguir:\n",
    "           raise ProcessoCanceladoException(\"Processo de resturação cancelado.\")\n",
    "        \n",
    "        with pymysql.connect(host=HOST, user=USUARIO, password=PASSWORD, port=PORTA).cursor() as cursor:\n",
    "            print(f\"🟡 Restauração iniciada: {SUBPASTA}\")\n",
    "            bancos_sommusgestor = listar_databases_atuais(cursor)\n",
    "            \n",
    "            print(\"🔵 [1/3] - Deletando os bancos de dados\")\n",
    "            for banco in bancos_sommusgestor:\n",
    "                deletar_database(cursor, banco)            \n",
    "\n",
    "            arquivos_sql_backup = os.listdir(DIRETORIO_BACKUP)\n",
    "\n",
    "            print(\"🔵 [2/3] - Criando os databases\")\n",
    "            for arquivo in arquivos_sql_backup:\n",
    "                nome_arquivo_sem_extensao = os.path.splitext(arquivo)[0]\n",
    "                criar_database(cursor, nome_arquivo_sem_extensao)\n",
    "\n",
    "            print(\"🔵 [3/3] - Restaurando os dados\")\n",
    "            for arquivo in arquivos_sql_backup:\n",
    "                nome_arquivo_sem_extensao = os.path.splitext(arquivo)[0]\n",
    "                restaurar(nome_arquivo_sem_extensao, HOST, PORTA, USUARIO, PASSWORD, DIRETORIO_BACKUP)\n",
    "\n",
    "        print(f\"✅ Restauração finalizada em {datetime.now().strftime('%d/%m/%Y às %H:%M:%S')}\")\n",
    "\n",
    "    except ProcessoCanceladoException as e:\n",
    "        print(e)\n",
    "    except Exception as e:\n",
    "        print(f'⛔ [Exceção lançada] \\n{e}')\n",
    "\n",
    " "
   ]
  }
 ],
 "metadata": {
  "kernelspec": {
   "display_name": "Python 3.10.7 64-bit (microsoft store)",
   "language": "python",
   "name": "python3"
  },
  "language_info": {
   "codemirror_mode": {
    "name": "ipython",
    "version": 3
   },
   "file_extension": ".py",
   "mimetype": "text/x-python",
   "name": "python",
   "nbconvert_exporter": "python",
   "pygments_lexer": "ipython3",
   "version": "3.10.11"
  },
  "orig_nbformat": 4,
  "vscode": {
   "interpreter": {
    "hash": "0cc338008178a1214e27db39d3f98c32ba31c00ac11362c1983256bb5ef1e9b4"
   }
  }
 },
 "nbformat": 4,
 "nbformat_minor": 2
}
