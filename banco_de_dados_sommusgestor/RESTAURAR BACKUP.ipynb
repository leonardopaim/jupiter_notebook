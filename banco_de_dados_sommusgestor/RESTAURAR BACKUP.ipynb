{
 "cells": [
  {
   "attachments": {},
   "cell_type": "markdown",
   "metadata": {},
   "source": [
    "## Configuração (Somente quando necessário)"
   ]
  },
  {
   "cell_type": "code",
   "execution_count": null,
   "metadata": {},
   "outputs": [],
   "source": [
    "! pip install pymysql;"
   ]
  },
  {
   "attachments": {},
   "cell_type": "markdown",
   "metadata": {},
   "source": [
    "## Restaurar danco de dados"
   ]
  },
  {
   "cell_type": "code",
   "execution_count": 1,
   "metadata": {},
   "outputs": [],
   "source": [
    "import pymysql\n",
    "import os\n",
    "import time\n",
    "\n",
    "def listar_databases_atuais(cursor):\n",
    "    cursor.execute('SHOW DATABASES')\n",
    "    bancos_sommusgestor = [db[0] for db in cursor.fetchall() if 'sommusgestor' in db[0]]\n",
    "    return bancos_sommusgestor\n",
    "\n",
    "def deletar_database(cursor, nome):\n",
    "    cursor.execute(f\"DROP DATABASE {nome}\")\n",
    "\n",
    "def criar_database(cursor, nome):\n",
    "    if(nome.startswith(\"sommusgestor\") and not nome.endswith(\"_old\")):\n",
    "        cursor.execute(f\"CREATE DATABASE IF NOT EXISTS {nome}\")\n",
    "\n",
    "def restaurar(banco, host, porta, usuario, password, diretorio):\n",
    "    if(banco.startswith(\"sommusgestor\") and not banco.endswith(\"_old\")):\n",
    "        comando = f'mysql -h {host} -P {porta} -u {usuario} -p{password} {banco} < {diretorio}/{banco}.sql'\n",
    "        os.popen(comando)\n",
    "\n",
    "def tabela_existe(cursor):\n",
    "    cursor.execute(f\"SHOW TABLES LIKE 'versao'\")\n",
    "    resultado = cursor.fetchall()\n",
    "    return bool(resultado)\n",
    "\n",
    "def analisar_final_restauracao(cursor, banco):\n",
    "    if(banco.startswith(\"sommusgestor\") and banco != \"sommusgestor_hangfire\" and not banco.endswith(\"_old\")):\n",
    "        cursor.execute(f\"USE {banco}\")\n",
    "        while not tabela_existe(cursor):\n",
    "            time.sleep(5)"
   ]
  },
  {
   "cell_type": "code",
   "execution_count": 2,
   "metadata": {},
   "outputs": [
    {
     "name": "stdout",
     "output_type": "stream",
     "text": [
      "✅ Restauração finalizada!\n"
     ]
    }
   ],
   "source": [
    "HOST = 'localhost'\n",
    "PORTA = 3307\n",
    "USUARIO = 'root'\n",
    "PASSWORD = 'root'\n",
    "PASTA = 'backups'\n",
    "SUBPASTA = 'bosch_car_2023-12-11_14-40-19'\n",
    "DIRETORIO_BACKUP = f'{PASTA}/{SUBPASTA}'\n",
    "\n",
    "if __name__ == '__main__':\n",
    "    try:\n",
    "        with pymysql.connect(host=HOST, user=USUARIO, password=PASSWORD, port=PORTA).cursor() as cursor:\n",
    "            bancos_sommusgestor = listar_databases_atuais(cursor)\n",
    "            \n",
    "            for banco in bancos_sommusgestor:\n",
    "                deletar_database(cursor, banco)\n",
    "\n",
    "            arquivos_sql_backup = os.listdir(DIRETORIO_BACKUP)\n",
    "\n",
    "            for arquivo in arquivos_sql_backup:\n",
    "                nome_arquivo_sem_extensao = os.path.splitext(arquivo)[0]\n",
    "                criar_database(cursor, nome_arquivo_sem_extensao)\n",
    "\n",
    "            for arquivo in arquivos_sql_backup:\n",
    "                nome_arquivo_sem_extensao = os.path.splitext(arquivo)[0]\n",
    "                restaurar(nome_arquivo_sem_extensao, HOST, PORTA, USUARIO, PASSWORD, DIRETORIO_BACKUP)\n",
    "\n",
    "            for arquivo in arquivos_sql_backup:\n",
    "                nome_arquivo_sem_extensao = os.path.splitext(arquivo)[0]\n",
    "                analisar_final_restauracao(cursor, nome_arquivo_sem_extensao)\n",
    "\n",
    "        print(\"✅ Restauração finalizada!\")\n",
    "\n",
    "    except Exception as e:\n",
    "        print(f'⛔ Exceção lançada: {e}')\n",
    "\n",
    " "
   ]
  }
 ],
 "metadata": {
  "kernelspec": {
   "display_name": "Python 3.10.7 64-bit (microsoft store)",
   "language": "python",
   "name": "python3"
  },
  "language_info": {
   "codemirror_mode": {
    "name": "ipython",
    "version": 3
   },
   "file_extension": ".py",
   "mimetype": "text/x-python",
   "name": "python",
   "nbconvert_exporter": "python",
   "pygments_lexer": "ipython3",
   "version": "3.10.11"
  },
  "orig_nbformat": 4,
  "vscode": {
   "interpreter": {
    "hash": "0cc338008178a1214e27db39d3f98c32ba31c00ac11362c1983256bb5ef1e9b4"
   }
  }
 },
 "nbformat": 4,
 "nbformat_minor": 2
}
