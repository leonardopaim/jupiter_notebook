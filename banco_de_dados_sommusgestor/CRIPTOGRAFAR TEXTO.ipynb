{
 "cells": [
  {
   "attachments": {},
   "cell_type": "markdown",
   "metadata": {},
   "source": [
    "## Configuração (Somente quando necessário)"
   ]
  },
  {
   "cell_type": "code",
   "execution_count": null,
   "metadata": {},
   "outputs": [],
   "source": [
    "! pip install pycryptodome"
   ]
  },
  {
   "attachments": {},
   "cell_type": "markdown",
   "metadata": {},
   "source": [
    "## Criar bancos de dados de testes do SommusGestor\n",
    "Criar os bancos iniciais para restaurar os dados"
   ]
  },
  {
   "cell_type": "code",
   "execution_count": null,
   "metadata": {},
   "outputs": [],
   "source": [
    "import base64\n",
    "from Crypto.Cipher import AES\n",
    "from Crypto.Protocol.KDF import PBKDF2\n",
    "\n",
    "class AESCrypt:\n",
    "    _SALT = b'g46dzQ80'\n",
    "    _INIT_VECTOR = b'OFRna74m*aze01xY'\n",
    "    _PASSWORD = b'sommus'\n",
    "\n",
    "    def __init__(self):\n",
    "        self.key = PBKDF2(self._PASSWORD, self._SALT, dkLen=32, count=1000)\n",
    "        self.cipher = AES.new(self.key, AES.MODE_CBC, self._INIT_VECTOR)\n",
    "\n",
    "    def encrypt(self, text):\n",
    "        text_bytes = text.encode('utf-8')\n",
    "        padded_text = self._pad(text_bytes)\n",
    "        encrypted = self.cipher.encrypt(padded_text)\n",
    "        return base64.b64encode(encrypted).decode('utf-8')\n",
    "\n",
    "    def decrypt(self, text):\n",
    "        encrypted_bytes = base64.b64decode(text)\n",
    "        decrypted = self.cipher.decrypt(encrypted_bytes)\n",
    "        return self._unpad(decrypted).decode('utf-8')\n",
    "\n",
    "    def _pad(self, data):\n",
    "        block_size = AES.block_size\n",
    "        padding_size = block_size - len(data) % block_size\n",
    "        padding = bytes([padding_size] * padding_size)\n",
    "        return data + padding\n",
    "\n",
    "    def _unpad(self, data):\n",
    "        padding_size = data[-1]\n",
    "        return data[:-padding_size]"
   ]
  },
  {
   "cell_type": "code",
   "execution_count": null,
   "metadata": {},
   "outputs": [],
   "source": [
    "# Exemplo de uso:\n",
    "aes = AESCrypt()\n",
    "\n",
    "endereco = \"localhost\"\n",
    "porta = \"3309\"\n",
    "usuario = \"root\"\n",
    "senha = \"root\"\n",
    "\n",
    "print(f\"Host: {endereco}, Porta: {porta}, Usuario: {usuario}, Senha: {senha}\")\n",
    "\n",
    "endereco_criptografado = aes.encrypt(endereco)\n",
    "porta_criptografado = aes.encrypt(porta)\n",
    "usuario_criptografado = aes.encrypt(usuario)\n",
    "senha_criptografado = aes.encrypt(senha)\n",
    "\n",
    "print(f\"Host: {endereco_criptografado}, Porta: {porta_criptografado}, Usuario: {usuario_criptografado}, Senha: {senha_criptografado}\")"
   ]
  }
 ],
 "metadata": {
  "kernelspec": {
   "display_name": "Python 3.10.7 64-bit (microsoft store)",
   "language": "python",
   "name": "python3"
  },
  "language_info": {
   "codemirror_mode": {
    "name": "ipython",
    "version": 3
   },
   "file_extension": ".py",
   "mimetype": "text/x-python",
   "name": "python",
   "nbconvert_exporter": "python",
   "pygments_lexer": "ipython3",
   "version": "3.10.11"
  },
  "orig_nbformat": 4,
  "vscode": {
   "interpreter": {
    "hash": "0cc338008178a1214e27db39d3f98c32ba31c00ac11362c1983256bb5ef1e9b4"
   }
  }
 },
 "nbformat": 4,
 "nbformat_minor": 2
}
