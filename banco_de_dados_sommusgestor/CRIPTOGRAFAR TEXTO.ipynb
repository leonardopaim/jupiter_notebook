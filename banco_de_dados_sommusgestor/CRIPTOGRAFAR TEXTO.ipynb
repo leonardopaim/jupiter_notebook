{
 "cells": [
  {
   "attachments": {},
   "cell_type": "markdown",
   "metadata": {},
   "source": [
    "## Configuração (Somente quando necessário)"
   ]
  },
  {
   "cell_type": "code",
   "execution_count": 14,
   "metadata": {},
   "outputs": [
    {
     "name": "stdout",
     "output_type": "stream",
     "text": [
      "Collecting pycryptodome\n",
      "  Obtaining dependency information for pycryptodome from https://files.pythonhosted.org/packages/87/c4/c979db0914a23541d62c9e4b5e8a30f56a78c6dec8677db6a5327d306be5/pycryptodome-3.19.0-cp35-abi3-win_amd64.whl.metadata\n",
      "  Downloading pycryptodome-3.19.0-cp35-abi3-win_amd64.whl.metadata (3.4 kB)\n",
      "Downloading pycryptodome-3.19.0-cp35-abi3-win_amd64.whl (1.7 MB)\n",
      "   ---------------------------------------- 1.7/1.7 MB 15.9 MB/s eta 0:00:00\n",
      "Installing collected packages: pycryptodome\n",
      "Successfully installed pycryptodome-3.19.0\n"
     ]
    },
    {
     "name": "stderr",
     "output_type": "stream",
     "text": [
      "\n",
      "[notice] A new release of pip is available: 23.2.1 -> 23.3.2\n",
      "[notice] To update, run: C:\\Users\\Leonardo\\AppData\\Local\\Microsoft\\WindowsApps\\PythonSoftwareFoundation.Python.3.10_qbz5n2kfra8p0\\python.exe -m pip install --upgrade pip\n"
     ]
    }
   ],
   "source": [
    "! pip install pycryptodome"
   ]
  },
  {
   "attachments": {},
   "cell_type": "markdown",
   "metadata": {},
   "source": [
    "## Criar bancos de dados de testes do SommusGestor\n",
    "Criar os bancos iniciais para restaurar os dados"
   ]
  },
  {
   "cell_type": "code",
   "execution_count": 2,
   "metadata": {},
   "outputs": [],
   "source": [
    "import base64\n",
    "from Crypto.Cipher import AES\n",
    "from Crypto.Protocol.KDF import PBKDF2\n",
    "\n",
    "class AESCrypt:\n",
    "    _SALT = b'g46dzQ80'\n",
    "    _INIT_VECTOR = b'OFRna74m*aze01xY'\n",
    "    _PASSWORD = b'sommus'\n",
    "\n",
    "    def __init__(self):\n",
    "        self.key = PBKDF2(self._PASSWORD, self._SALT, dkLen=32, count=1000)\n",
    "        self.cipher = AES.new(self.key, AES.MODE_CBC, self._INIT_VECTOR)\n",
    "\n",
    "    def encrypt(self, text):\n",
    "        text_bytes = text.encode('utf-8')\n",
    "        padded_text = self._pad(text_bytes)\n",
    "        encrypted = self.cipher.encrypt(padded_text)\n",
    "        return base64.b64encode(encrypted).decode('utf-8')\n",
    "\n",
    "    def decrypt(self, text):\n",
    "        encrypted_bytes = base64.b64decode(text)\n",
    "        decrypted = self.cipher.decrypt(encrypted_bytes)\n",
    "        return self._unpad(decrypted).decode('utf-8')\n",
    "\n",
    "    def _pad(self, data):\n",
    "        block_size = AES.block_size\n",
    "        padding_size = block_size - len(data) % block_size\n",
    "        padding = bytes([padding_size] * padding_size)\n",
    "        return data + padding\n",
    "\n",
    "    def _unpad(self, data):\n",
    "        padding_size = data[-1]\n",
    "        return data[:-padding_size]"
   ]
  },
  {
   "cell_type": "code",
   "execution_count": 8,
   "metadata": {},
   "outputs": [
    {
     "name": "stdout",
     "output_type": "stream",
     "text": [
      "Host: localhost, Porta: 3309, Usuario: root, Senha: root\n",
      "Host: 9AkzwATyjLDhj+AmXiHbpg==, Porta: t59q9iI6MKYXWseeTGWshg==, Usuario: tGSf1/OWs/HoxKMayJp0Mg==, Senha: qNF/SObjdYsk23jWz11Ryg==\n"
     ]
    }
   ],
   "source": [
    "# Exemplo de uso:\n",
    "aes = AESCrypt()\n",
    "\n",
    "endereco = \"localhost\"\n",
    "porta = \"3309\"\n",
    "usuario = \"root\"\n",
    "senha = \"root\"\n",
    "\n",
    "print(f\"Host: {endereco}, Porta: {porta}, Usuario: {usuario}, Senha: {senha}\")\n",
    "\n",
    "endereco_criptografado = aes.encrypt(endereco)\n",
    "porta_criptografado = aes.encrypt(porta)\n",
    "usuario_criptografado = aes.encrypt(usuario)\n",
    "senha_criptografado = aes.encrypt(senha)\n",
    "\n",
    "print(f\"Host: {endereco_criptografado}, Porta: {porta_criptografado}, Usuario: {usuario_criptografado}, Senha: {senha_criptografado}\")"
   ]
  }
 ],
 "metadata": {
  "kernelspec": {
   "display_name": "Python 3.10.7 64-bit (microsoft store)",
   "language": "python",
   "name": "python3"
  },
  "language_info": {
   "codemirror_mode": {
    "name": "ipython",
    "version": 3
   },
   "file_extension": ".py",
   "mimetype": "text/x-python",
   "name": "python",
   "nbconvert_exporter": "python",
   "pygments_lexer": "ipython3",
   "version": "3.10.11"
  },
  "orig_nbformat": 4,
  "vscode": {
   "interpreter": {
    "hash": "0cc338008178a1214e27db39d3f98c32ba31c00ac11362c1983256bb5ef1e9b4"
   }
  }
 },
 "nbformat": 4,
 "nbformat_minor": 2
}
