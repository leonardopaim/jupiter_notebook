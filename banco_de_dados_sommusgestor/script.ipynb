{
 "cells": [
  {
   "cell_type": "code",
   "execution_count": null,
   "metadata": {},
   "outputs": [],
   "source": [
    "#! pip install mysql.connector\n",
    "#! pip install pymysql;"
   ]
  },
  {
   "cell_type": "markdown",
   "metadata": {},
   "source": [
    "## Fazer backup dos bancos"
   ]
  },
  {
   "cell_type": "code",
   "execution_count": 3,
   "metadata": {},
   "outputs": [],
   "source": [
    "import configparser\n",
    "import os\n",
    "import time\n",
    "import getpass"
   ]
  },
  {
   "cell_type": "code",
   "execution_count": 11,
   "metadata": {},
   "outputs": [
    {
     "name": "stdout",
     "output_type": "stream",
     "text": [
      "sommusgestor.sql ==> OK\n",
      "sommusgestor_1.sql ==> OK\n",
      "sommusgestor_2.sql ==> OK\n",
      "sommusgestor_8.sql ==> OK\n",
      "sommusgestor_9.sql ==> OK\n",
      "sommusgestor_hangfire.sql ==> OK\n"
     ]
    }
   ],
   "source": [
    "HOST='localhost'\n",
    "PORT='3307'\n",
    "DB_USER='root'\n",
    "DB_PASS='root'\n",
    "\n",
    "databases=('sommusgestor','sommusgestor_1','sommusgestor_2','sommusgestor_8','sommusgestor_9', 'sommusgestor_hangfire')\n",
    "\n",
    "def get_dump(database):\n",
    "    #mysqldump -u root -p DB_NAME --ignore-table=DB_NAME.table1 --ignore-table=DB_NAME.table3 > database.sql\n",
    "    nomeArquivo = \"backups/\"+database\n",
    "    os.popen(\"mysqldump -h %s -P %s -u %s -p%s %s > %s.sql\" % (HOST, PORT, DB_USER, DB_PASS, database, nomeArquivo))\n",
    "    print(database+\".sql ==> OK\")\n",
    "\n",
    "\n",
    "if __name__==\"__main__\":\n",
    "    for database in databases:\n",
    "        get_dump(database)"
   ]
  },
  {
   "cell_type": "markdown",
   "metadata": {},
   "source": [
    "## Restaurar danco de dados"
   ]
  },
  {
   "cell_type": "code",
   "execution_count": 23,
   "metadata": {},
   "outputs": [],
   "source": [
    "import os\n",
    "import time"
   ]
  },
  {
   "cell_type": "code",
   "execution_count": 24,
   "metadata": {},
   "outputs": [],
   "source": [
    "HOST='localhost'\n",
    "PORT='3307'\n",
    "DB_USER='root'\n",
    "DB_PASS='root'\n",
    "\n",
    "databases=('sommusgestor','sommusgestor_1','sommusgestor_2','sommusgestor_8','sommusgestor_9', 'sommusgestor_hangfire')\n",
    "\n",
    "def restaurar(database_name):\n",
    "    comando = \"mysql -h %s -P %s -u %s -p%s %s < backups/%s.sql\" % (HOST, PORT, DB_USER, DB_PASS, database_name, database_name)\n",
    "    os.popen(comando)\n",
    "\n",
    "if __name__==\"__main__\":\n",
    "    for database in databases:\n",
    "        restaurar(database)"
   ]
  },
  {
   "cell_type": "markdown",
   "metadata": {},
   "source": [
    "## Apagar bancos de dados do SommusGestor"
   ]
  },
  {
   "cell_type": "code",
   "execution_count": 1,
   "metadata": {},
   "outputs": [],
   "source": [
    "import pymysql"
   ]
  },
  {
   "cell_type": "code",
   "execution_count": 5,
   "metadata": {},
   "outputs": [],
   "source": [
    "cusrorType = pymysql.cursors.DictCursor\n",
    "connection = pymysql.connect(host=\"localhost\", user=\"root\", password=\"root\", port=3307, cursorclass=cusrorType)\n",
    "\n",
    "try:\n",
    "    cursor = connection.cursor()\n",
    "    cursor.execute(\"SHOW DATABASES\")\n",
    "    resultados = cursor.fetchall()\n",
    "\n",
    "    for database in resultados:\n",
    "        nomeDatabase = database['Database']\n",
    "\n",
    "        if(\"sommusgestor\" in nomeDatabase):\n",
    "            cursor.execute(f\"DROP DATABASE {nomeDatabase}\")\n",
    "\n",
    "except Exception as e:\n",
    "    print(\"Exeception occured:{}\".format(e))\n",
    "\n",
    "finally:\n",
    "    connection.close()"
   ]
  }
 ],
 "metadata": {
  "kernelspec": {
   "display_name": "Python 3.10.7 64-bit (microsoft store)",
   "language": "python",
   "name": "python3"
  },
  "language_info": {
   "codemirror_mode": {
    "name": "ipython",
    "version": 3
   },
   "file_extension": ".py",
   "mimetype": "text/x-python",
   "name": "python",
   "nbconvert_exporter": "python",
   "pygments_lexer": "ipython3",
   "version": "3.10.8"
  },
  "orig_nbformat": 4,
  "vscode": {
   "interpreter": {
    "hash": "0cc338008178a1214e27db39d3f98c32ba31c00ac11362c1983256bb5ef1e9b4"
   }
  }
 },
 "nbformat": 4,
 "nbformat_minor": 2
}
