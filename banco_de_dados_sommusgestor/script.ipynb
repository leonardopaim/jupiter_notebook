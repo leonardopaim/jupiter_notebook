{
 "cells": [
  {
   "cell_type": "code",
   "execution_count": 18,
   "metadata": {},
   "outputs": [
    {
     "name": "stderr",
     "output_type": "stream",
     "text": [
      "ERROR: Could not find a version that satisfies the requirement subprocess (from versions: none)\n",
      "ERROR: No matching distribution found for subprocess\n"
     ]
    }
   ],
   "source": [
    "#! pip install mysql.connector\n",
    "#! pip install pymysql;"
   ]
  },
  {
   "cell_type": "markdown",
   "metadata": {},
   "source": [
    "## Apagar bancos de dados do SommusGestor"
   ]
  },
  {
   "cell_type": "code",
   "execution_count": 2,
   "metadata": {},
   "outputs": [],
   "source": [
    "import pymysql"
   ]
  },
  {
   "cell_type": "code",
   "execution_count": 15,
   "metadata": {},
   "outputs": [],
   "source": [
    "cusrorType = pymysql.cursors.DictCursor\n",
    "connection = pymysql.connect(host=\"localhost\", user=\"root\", password=\"root\", port=3307, cursorclass=cusrorType)\n",
    "\n",
    "try:\n",
    "    cursor = connection.cursor()\n",
    "    cursor.execute(\"SHOW DATABASES\")\n",
    "    resultados = cursor.fetchall()\n",
    "\n",
    "    for database in resultados:\n",
    "        nomeDatabase = database['Database']\n",
    "\n",
    "        if(\"sommusgestor\" in nomeDatabase):\n",
    "            cursor.execute(f\"DROP DATABASE {nomeDatabase}\")\n",
    "\n",
    "    connection.commit()\n",
    "    \n",
    "except Exception as e:\n",
    "    print(\"Exeception occured:{}\".format(e))\n",
    "\n",
    "finally:\n",
    "    connection.close()"
   ]
  },
  {
   "cell_type": "markdown",
   "metadata": {},
   "source": [
    "## Fazer backup dos bancos"
   ]
  },
  {
   "cell_type": "code",
   "execution_count": 24,
   "metadata": {},
   "outputs": [],
   "source": [
    "import configparser\n",
    "import os\n",
    "import time\n",
    "import getpass"
   ]
  },
  {
   "cell_type": "code",
   "execution_count": 26,
   "metadata": {},
   "outputs": [
    {
     "name": "stdout",
     "output_type": "stream",
     "text": [
      "|| Database dumped to sommusgestor.sql || \n",
      "|| Database dumped to sommusgestor_1.sql || \n",
      "|| Database dumped to sommusgestor_2.sql || \n"
     ]
    }
   ],
   "source": [
    "\n",
    "\n",
    "HOST='localhost'\n",
    "PORT='3307'\n",
    "DB_USER='root'\n",
    "DB_PASS='root'\n",
    "\n",
    "databases=('sommusgestor','sommusgestor_1','sommusgestor_2')\n",
    "\n",
    "def get_dump(database):\n",
    "    #mysqldump -u root -p DB_NAME --ignore-table=DB_NAME.table1 --ignore-table=DB_NAME.table3 > database.sql\n",
    "    nomeArquivo = \"backups/\"+database\n",
    "    os.popen(\"mysqldump -h %s -P %s -u %s -p%s %s > %s.sql\" % (HOST, PORT, DB_USER, DB_PASS, database, nomeArquivo))\n",
    "    print(\"|| Database dumped to \"+database+\".sql || \")\n",
    "\n",
    "\n",
    "if __name__==\"__main__\":\n",
    "    for database in databases:\n",
    "        get_dump(database)"
   ]
  }
 ],
 "metadata": {
  "kernelspec": {
   "display_name": "Python 3.10.7 64-bit (microsoft store)",
   "language": "python",
   "name": "python3"
  },
  "language_info": {
   "codemirror_mode": {
    "name": "ipython",
    "version": 3
   },
   "file_extension": ".py",
   "mimetype": "text/x-python",
   "name": "python",
   "nbconvert_exporter": "python",
   "pygments_lexer": "ipython3",
   "version": "3.10.7"
  },
  "orig_nbformat": 4,
  "vscode": {
   "interpreter": {
    "hash": "0cc338008178a1214e27db39d3f98c32ba31c00ac11362c1983256bb5ef1e9b4"
   }
  }
 },
 "nbformat": 4,
 "nbformat_minor": 2
}
