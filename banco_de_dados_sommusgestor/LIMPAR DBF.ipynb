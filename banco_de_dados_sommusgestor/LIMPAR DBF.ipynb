{
 "cells": [
  {
   "attachments": {},
   "cell_type": "markdown",
   "metadata": {},
   "source": [
    "## Configuração (Somente quando necessário)"
   ]
  },
  {
   "cell_type": "code",
   "execution_count": 2,
   "metadata": {},
   "outputs": [
    {
     "name": "stdout",
     "output_type": "stream",
     "text": [
      "Collecting dbf\n",
      "  Downloading dbf-0.99.3-py3-none-any.whl (107 kB)\n",
      "     -------------------------------------- 107.6/107.6 kB 3.1 MB/s eta 0:00:00\n",
      "Collecting aenum (from dbf)\n",
      "  Obtaining dependency information for aenum from https://files.pythonhosted.org/packages/d0/fa/ca0c66b388624ba9dbbf35aab3a9f326bfdf5e56a7237fe8f1b600da6864/aenum-3.1.15-py3-none-any.whl.metadata\n",
      "  Downloading aenum-3.1.15-py3-none-any.whl.metadata (3.7 kB)\n",
      "Downloading aenum-3.1.15-py3-none-any.whl (137 kB)\n",
      "   ---------------------------------------- 137.6/137.6 kB 8.5 MB/s eta 0:00:00\n",
      "Installing collected packages: aenum, dbf\n",
      "Successfully installed aenum-3.1.15 dbf-0.99.3\n"
     ]
    },
    {
     "name": "stderr",
     "output_type": "stream",
     "text": [
      "\n",
      "[notice] A new release of pip is available: 23.2.1 -> 23.3.1\n",
      "[notice] To update, run: C:\\Users\\Leonardo\\AppData\\Local\\Microsoft\\WindowsApps\\PythonSoftwareFoundation.Python.3.10_qbz5n2kfra8p0\\python.exe -m pip install --upgrade pip\n"
     ]
    }
   ],
   "source": [
    "! pip install dbf;"
   ]
  },
  {
   "attachments": {},
   "cell_type": "markdown",
   "metadata": {},
   "source": [
    "## Restaurar danco de dados"
   ]
  },
  {
   "cell_type": "code",
   "execution_count": 2,
   "metadata": {},
   "outputs": [],
   "source": [
    "import dbf\n",
    "import datetime"
   ]
  },
  {
   "cell_type": "code",
   "execution_count": 3,
   "metadata": {},
   "outputs": [
    {
     "name": "stdout",
     "output_type": "stream",
     "text": [
      "  0 - NAME      : 'Spanky                   '\n",
      "  1 - AGE       : 7\n",
      "  2 - BIRTH     : datetime.date(2001, 3, 15)\n",
      "  3 - QUALIFIED : False\n",
      "--------\n",
      "['Spanky                   ', 7, datetime.date(2001, 3, 15)]\n",
      "['Spanky                   ', 7, datetime.date(2001, 3, 15)]\n",
      "--------\n",
      "  0 - NAME      : 'Spunky                   '\n",
      "  1 - AGE       : 23\n",
      "  2 - BIRTH     : datetime.date(1989, 7, 23)\n",
      "  3 - QUALIFIED : True\n",
      "--------\n",
      "['Spunky                   ', 23, datetime.date(1989, 7, 23)]\n",
      "['Spunky                   ', 23, datetime.date(1989, 7, 23)]\n",
      "--------\n",
      "  0 - NAME      : 'Sparky                   '\n",
      "  1 - AGE       : 99\n",
      "  2 - BIRTH     : None\n",
      "  3 - QUALIFIED : None\n",
      "--------\n",
      "['Sparky                   ', 99, None]\n",
      "['Sparky                   ', 99, None]\n",
      "--------\n",
      "  0 - NAME      : 'SPANKY'\n",
      "  1 - AGE       : 7\n",
      "  2 - BIRTH     : Date(2001, 3, 15)\n",
      "  3 - QUALIFIED : Logical('F')\n",
      "--------\n",
      "['SPANKY', 7, Date(2001, 3, 15)]\n",
      "['SPANKY', 7, Date(2001, 3, 15)]\n",
      "--------\n",
      "  0 - NAME      : 'SPUNKY'\n",
      "  1 - AGE       : 23\n",
      "  2 - BIRTH     : Date(1989, 7, 23)\n",
      "  3 - QUALIFIED : Logical('T')\n",
      "--------\n",
      "['SPUNKY', 23, Date(1989, 7, 23)]\n",
      "['SPUNKY', 23, Date(1989, 7, 23)]\n",
      "--------\n",
      "  0 - NAME      : 'SPARKY'\n",
      "  1 - AGE       : 99\n",
      "  2 - BIRTH     : Date()\n",
      "  3 - QUALIFIED : Logical('?')\n",
      "--------\n",
      "['SPARKY', 99, Date()]\n",
      "['SPARKY', 99, Date()]\n",
      "--------\n"
     ]
    }
   ],
   "source": [
    "# create an in-memory table\n",
    "table = dbf.Table(\n",
    "        filename='test.dbf',\n",
    "        field_specs='name C(25); age N(3,0); birth D; qualified L',\n",
    "        on_disk=False,\n",
    "        )\n",
    "table.open(dbf.READ_WRITE)\n",
    "\n",
    "# add some records to it\n",
    "for datum in (\n",
    "        ('Spanky', 7, dbf.Date.fromymd('20010315'), False),\n",
    "        ('Spunky', 23, dbf.Date(1989, 7, 23), True),\n",
    "        ('Sparky', 99, dbf.Date(), dbf.Unknown),\n",
    "        ):\n",
    "    table.append(datum)\n",
    "\n",
    "# iterate over the table, and print the records\n",
    "for record in table:\n",
    "    print(record)\n",
    "    print('--------')\n",
    "    print(record[0:3])\n",
    "    print([record.name, record.age, record.birth])\n",
    "    print('--------')\n",
    "\n",
    "# make a copy of the test table (structure, not data)\n",
    "custom = table.new(\n",
    "        filename='test_on_disk.dbf',\n",
    "        default_data_types=dict(C=dbf.Char, D=dbf.Date, L=dbf.Logical),\n",
    "        )\n",
    "\n",
    "# automatically opened and closed\n",
    "with custom:\n",
    "    # copy records from test to custom\n",
    "    for record in table:\n",
    "        custom.append(record)\n",
    "    # modify each record in custom (could have done this in prior step)\n",
    "    for record in custom:\n",
    "        dbf.write(record, name=record.name.upper())\n",
    "        # and print the modified record\n",
    "        print(record)\n",
    "        print('--------')\n",
    "        print(record[0:3])\n",
    "        print([record.name, record.age, record.birth])\n",
    "        print('--------')\n",
    "\n",
    "table.close()"
   ]
  }
 ],
 "metadata": {
  "kernelspec": {
   "display_name": "Python 3.10.7 64-bit (microsoft store)",
   "language": "python",
   "name": "python3"
  },
  "language_info": {
   "codemirror_mode": {
    "name": "ipython",
    "version": 3
   },
   "file_extension": ".py",
   "mimetype": "text/x-python",
   "name": "python",
   "nbconvert_exporter": "python",
   "pygments_lexer": "ipython3",
   "version": "3.10.11"
  },
  "orig_nbformat": 4,
  "vscode": {
   "interpreter": {
    "hash": "0cc338008178a1214e27db39d3f98c32ba31c00ac11362c1983256bb5ef1e9b4"
   }
  }
 },
 "nbformat": 4,
 "nbformat_minor": 2
}
