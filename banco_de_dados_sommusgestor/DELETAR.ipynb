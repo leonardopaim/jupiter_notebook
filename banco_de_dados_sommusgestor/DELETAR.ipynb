{
 "cells": [
  {
   "attachments": {},
   "cell_type": "markdown",
   "metadata": {},
   "source": [
    "## Configuração (Somente quando necessário)"
   ]
  },
  {
   "cell_type": "code",
   "execution_count": null,
   "metadata": {},
   "outputs": [],
   "source": [
    "! pip install pymysql"
   ]
  },
  {
   "attachments": {},
   "cell_type": "markdown",
   "metadata": {},
   "source": [
    "## Apagar bancos de dados do SommusGestor"
   ]
  },
  {
   "cell_type": "code",
   "execution_count": 1,
   "metadata": {},
   "outputs": [],
   "source": [
    "import pymysql\n",
    "from datetime import datetime"
   ]
  },
  {
   "cell_type": "code",
   "execution_count": 2,
   "metadata": {},
   "outputs": [
    {
     "name": "stdout",
     "output_type": "stream",
     "text": [
      "✅ Bancos de dados deletados em 22/03/2024 às 09:56:30\n"
     ]
    }
   ],
   "source": [
    "HOST = \"localhost\"\n",
    "USUARIO = \"root\"\n",
    "PASSWORD = \"root\"\n",
    "PORTA = 3307\n",
    "\n",
    "if __name__ == \"__main__\":\n",
    "    try:\n",
    "        with pymysql.connect(host=HOST, user=USUARIO, password=PASSWORD, port=PORTA).cursor() as cursor:\n",
    "            cursor.execute(\"SHOW DATABASES\")\n",
    "\n",
    "            for databases in cursor.fetchall():\n",
    "                nomeDatabase = databases[0]\n",
    "\n",
    "                if \"sommusgestor\" in nomeDatabase:\n",
    "                    cursor.execute(f\"DROP DATABASE {nomeDatabase}\")\n",
    "\n",
    "        print(f\"✅ Bancos de dados deletados em {datetime.now().strftime('%d/%m/%Y às %H:%M:%S')}\")\n",
    "\n",
    "    except Exception as e:\n",
    "        print(f\"⛔ Exceção lançada: {e}\")\n"
   ]
  }
 ],
 "metadata": {
  "kernelspec": {
   "display_name": "Python 3.10.7 64-bit (microsoft store)",
   "language": "python",
   "name": "python3"
  },
  "language_info": {
   "codemirror_mode": {
    "name": "ipython",
    "version": 3
   },
   "file_extension": ".py",
   "mimetype": "text/x-python",
   "name": "python",
   "nbconvert_exporter": "python",
   "pygments_lexer": "ipython3",
   "version": "3.10.11"
  },
  "orig_nbformat": 4,
  "vscode": {
   "interpreter": {
    "hash": "0cc338008178a1214e27db39d3f98c32ba31c00ac11362c1983256bb5ef1e9b4"
   }
  }
 },
 "nbformat": 4,
 "nbformat_minor": 2
}
