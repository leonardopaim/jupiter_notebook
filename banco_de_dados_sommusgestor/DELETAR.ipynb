{
 "cells": [
  {
   "attachments": {},
   "cell_type": "markdown",
   "metadata": {},
   "source": [
    "## Configuração (Somente quando necessário)"
   ]
  },
  {
   "cell_type": "code",
   "execution_count": null,
   "metadata": {},
   "outputs": [],
   "source": [
    "! pip install pymysql"
   ]
  },
  {
   "attachments": {},
   "cell_type": "markdown",
   "metadata": {},
   "source": [
    "## Apagar bancos de dados do SommusGestor"
   ]
  },
  {
   "cell_type": "code",
   "execution_count": 4,
   "metadata": {},
   "outputs": [],
   "source": [
    "import pymysql\n",
    "from datetime import datetime\n",
    "import ctypes\n",
    "\n",
    "# Constantes para os tipos de botões\n",
    "MB_YESNO = 4\n",
    "IDYES = 6\n",
    "IDNO = 7\n",
    "\n",
    "# Função para exibir uma caixa de diálogo do Windows\n",
    "def exibir_caixa_mensagem(titulo, mensagem):\n",
    "    resposta = ctypes.windll.user32.MessageBoxW(0, mensagem, titulo, MB_YESNO)\n",
    "    return resposta == IDYES\n",
    "\n",
    "class ProcessoCanceladoException(Exception):\n",
    "    pass"
   ]
  },
  {
   "cell_type": "code",
   "execution_count": 6,
   "metadata": {},
   "outputs": [
    {
     "name": "stdout",
     "output_type": "stream",
     "text": [
      "Processo de resturação cancelado.\n"
     ]
    }
   ],
   "source": [
    "HOST = \"localhost\"\n",
    "USUARIO = \"root\"\n",
    "PASSWORD = \"root\"\n",
    "PORTA = 3307\n",
    "\n",
    "if __name__ == \"__main__\":\n",
    "    try:\n",
    "        seguir = exibir_caixa_mensagem(\"Confirmação\", f\"Deseja deletar os databases de \\n{HOST}:{PORTA}?\")\n",
    "\n",
    "        if not seguir:\n",
    "           raise ProcessoCanceladoException(\"Processo exclusão cancelado.\")\n",
    "        \n",
    "        with pymysql.connect(host=HOST, user=USUARIO, password=PASSWORD, port=PORTA).cursor() as cursor:\n",
    "            cursor.execute(\"SHOW DATABASES\")\n",
    "\n",
    "            for databases in cursor.fetchall():\n",
    "                nomeDatabase = databases[0]\n",
    "\n",
    "                if \"sommusgestor\" in nomeDatabase:\n",
    "                    cursor.execute(f\"DROP DATABASE {nomeDatabase}\")\n",
    "\n",
    "        print(f\"✅ Bancos de dados deletados em {datetime.now().strftime('%d/%m/%Y às %H:%M:%S')}\")\n",
    "\n",
    "    except ProcessoCanceladoException as e:\n",
    "        print(e)\n",
    "    except Exception as e:\n",
    "        print(f\"⛔ Exceção lançada: {e}\")\n"
   ]
  }
 ],
 "metadata": {
  "kernelspec": {
   "display_name": "Python 3.10.7 64-bit (microsoft store)",
   "language": "python",
   "name": "python3"
  },
  "language_info": {
   "codemirror_mode": {
    "name": "ipython",
    "version": 3
   },
   "file_extension": ".py",
   "mimetype": "text/x-python",
   "name": "python",
   "nbconvert_exporter": "python",
   "pygments_lexer": "ipython3",
   "version": "3.10.11"
  },
  "orig_nbformat": 4,
  "vscode": {
   "interpreter": {
    "hash": "0cc338008178a1214e27db39d3f98c32ba31c00ac11362c1983256bb5ef1e9b4"
   }
  }
 },
 "nbformat": 4,
 "nbformat_minor": 2
}
