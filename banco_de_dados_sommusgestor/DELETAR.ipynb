{
 "cells": [
  {
   "attachments": {},
   "cell_type": "markdown",
   "metadata": {},
   "source": [
    "## Configuração (Somente quando necessário)"
   ]
  },
  {
   "cell_type": "code",
   "execution_count": null,
   "metadata": {},
   "outputs": [],
   "source": [
    "! pip install pymysql"
   ]
  },
  {
   "cell_type": "markdown",
   "metadata": {},
   "source": [
    "## Apagar bancos de dados do SommusGestor"
   ]
  },
  {
   "cell_type": "code",
   "execution_count": 1,
   "metadata": {},
   "outputs": [],
   "source": [
    "import pymysql"
   ]
  },
  {
   "cell_type": "code",
   "execution_count": 4,
   "metadata": {},
   "outputs": [],
   "source": [
    "HOST = \"localhost\"\n",
    "USER = \"root\"\n",
    "PASSWORD = \"root\"\n",
    "PORT = 3307\n",
    "\n",
    "try:\n",
    "    tipoDeCursor = pymysql.cursors.DictCursor\n",
    "    connection = pymysql.connect(host=HOST, user=USER, password=PASSWORD, port=PORT, cursorclass=tipoDeCursor)\n",
    "\n",
    "    cursor = connection.cursor()\n",
    "    cursor.execute(\"SHOW DATABASES\")\n",
    "    \n",
    "    resultados = cursor.fetchall()\n",
    "\n",
    "    for database in resultados:\n",
    "        nomeDatabase = database['Database']\n",
    "\n",
    "        if(\"sommusgestor\" in nomeDatabase):\n",
    "            cursor.execute(f\"DROP DATABASE {nomeDatabase}\")\n",
    "\n",
    "except Exception as e:\n",
    "    print(\"Exceção lançada: {}\".format(e))\n",
    "\n",
    "finally:\n",
    "    connection.close()"
   ]
  }
 ],
 "metadata": {
  "kernelspec": {
   "display_name": "Python 3.10.7 64-bit (microsoft store)",
   "language": "python",
   "name": "python3"
  },
  "language_info": {
   "codemirror_mode": {
    "name": "ipython",
    "version": 3
   },
   "file_extension": ".py",
   "mimetype": "text/x-python",
   "name": "python",
   "nbconvert_exporter": "python",
   "pygments_lexer": "ipython3",
   "version": "3.10.10"
  },
  "orig_nbformat": 4,
  "vscode": {
   "interpreter": {
    "hash": "0cc338008178a1214e27db39d3f98c32ba31c00ac11362c1983256bb5ef1e9b4"
   }
  }
 },
 "nbformat": 4,
 "nbformat_minor": 2
}
