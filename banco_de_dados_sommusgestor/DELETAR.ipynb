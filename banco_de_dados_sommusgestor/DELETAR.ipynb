{
 "cells": [
  {
   "attachments": {},
   "cell_type": "markdown",
   "metadata": {},
   "source": [
    "## Configuração (Somente quando necessário)"
   ]
  },
  {
   "cell_type": "code",
   "execution_count": null,
   "metadata": {},
   "outputs": [],
   "source": [
    "! pip install pymysql"
   ]
  },
  {
   "cell_type": "markdown",
   "metadata": {},
   "source": [
    "## Apagar bancos de dados do SommusGestor"
   ]
  },
  {
   "cell_type": "code",
   "execution_count": 3,
   "metadata": {},
   "outputs": [],
   "source": [
    "import pymysql"
   ]
  },
  {
   "cell_type": "code",
   "execution_count": 5,
   "metadata": {},
   "outputs": [],
   "source": [
    "HOST = \"localhost\"\n",
    "USUARIO = \"root\"\n",
    "PASSWORD = \"root\"\n",
    "PORTA = 3307\n",
    "\n",
    "if __name__ == \"__main__\":\n",
    "    try:\n",
    "        with pymysql.connect(host=HOST, user=USUARIO, password=PASSWORD, port=PORTA) as connection:\n",
    "            with connection.cursor() as cursor:\n",
    "                cursor.execute(\"SHOW DATABASES\")\n",
    "                \n",
    "                for database in cursor.fetchall():\n",
    "                    nomeDatabase = database[0]\n",
    "\n",
    "                    if \"sommusgestor\" in nomeDatabase:\n",
    "                        cursor.execute(f\"DROP DATABASE {nomeDatabase}\")\n",
    "\n",
    "    except Exception as e:\n",
    "        print(f\"Exceção lançada: {e}\")\n"
   ]
  }
 ],
 "metadata": {
  "kernelspec": {
   "display_name": "Python 3.10.7 64-bit (microsoft store)",
   "language": "python",
   "name": "python3"
  },
  "language_info": {
   "codemirror_mode": {
    "name": "ipython",
    "version": 3
   },
   "file_extension": ".py",
   "mimetype": "text/x-python",
   "name": "python",
   "nbconvert_exporter": "python",
   "pygments_lexer": "ipython3",
   "version": "3.10.10"
  },
  "orig_nbformat": 4,
  "vscode": {
   "interpreter": {
    "hash": "0cc338008178a1214e27db39d3f98c32ba31c00ac11362c1983256bb5ef1e9b4"
   }
  }
 },
 "nbformat": 4,
 "nbformat_minor": 2
}
