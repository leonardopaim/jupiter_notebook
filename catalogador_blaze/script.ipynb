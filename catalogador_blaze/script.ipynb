{
 "cells": [
  {
   "cell_type": "code",
   "execution_count": null,
   "metadata": {},
   "outputs": [],
   "source": [
    "#! pip install requests\n",
    "#! pip install bs4"
   ]
  },
  {
   "cell_type": "code",
   "execution_count": 5,
   "metadata": {},
   "outputs": [],
   "source": [
    "# Bibliotecas necessárias\n",
    "import requests\n",
    "from bs4 import BeautifulSoup"
   ]
  },
  {
   "cell_type": "code",
   "execution_count": 16,
   "metadata": {},
   "outputs": [
    {
     "name": "stdout",
     "output_type": "stream",
     "text": [
      "--------------------------\n",
      "Últimos giros Blaze Double\n",
      "--------------------------\n",
      "Branco......: 3%\n",
      "Preto.......: 43%\n",
      "Vermelho....: 54%\n"
     ]
    }
   ],
   "source": [
    "documento = requests.get(\"https://kitblaze.com/double/?visitante=home\")\n",
    "html_doc = BeautifulSoup(documento.text, 'html.parser')\n",
    "ultimos_giros = html_doc.find_all('div', {'class': 'giro-img'})\n",
    "dict_cores = {'0':'B','1':'V','2':'V','3':'V','4':'V','5':'V','6':'V','7':'V','8':'P','9':'P','10':'P','11':'P','12':'P','13':'P','14':'P'}\n",
    "cores = []\n",
    "\n",
    "for giro in ultimos_giros:\n",
    "    numero = giro.find('span')\n",
    "    cor = dict_cores[numero.text]\n",
    "    cores.append(cor)\n",
    "\n",
    "print('--------------------------')\n",
    "print(\"Últimos giros Blaze Double\")\n",
    "print('--------------------------')\n",
    "print(f\"Branco......: {cores.count('B')}%\")\n",
    "print(f\"Preto.......: {cores.count('P')}%\")\n",
    "print(f\"Vermelho....: {cores.count('V')}%\")"
   ]
  }
 ],
 "metadata": {
  "kernelspec": {
   "display_name": "Python 3.10.7 64-bit (microsoft store)",
   "language": "python",
   "name": "python3"
  },
  "language_info": {
   "codemirror_mode": {
    "name": "ipython",
    "version": 3
   },
   "file_extension": ".py",
   "mimetype": "text/x-python",
   "name": "python",
   "nbconvert_exporter": "python",
   "pygments_lexer": "ipython3",
   "version": "3.10.7"
  },
  "orig_nbformat": 4,
  "vscode": {
   "interpreter": {
    "hash": "0cc338008178a1214e27db39d3f98c32ba31c00ac11362c1983256bb5ef1e9b4"
   }
  }
 },
 "nbformat": 4,
 "nbformat_minor": 2
}
