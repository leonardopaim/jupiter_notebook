{
 "cells": [
  {
   "cell_type": "code",
   "execution_count": 4,
   "metadata": {},
   "outputs": [
    {
     "name": "stdout",
     "output_type": "stream",
     "text": [
      "Ariston \n",
      "Kevin \n",
      "Rodrigo \n",
      "Eli \n",
      "Fael \n",
      "Pablo H. \n",
      "Wilson \n",
      "Ualisson \n",
      "Travado \n",
      "Thainã \n",
      "Kleiton \n",
      "João Martins \n"
     ]
    }
   ],
   "source": [
    "import re\n",
    "\n",
    "texto_base = \"\"\"\n",
    "FUTSAL - DIA: 23/03/2023 - 20:00 às 22:00\n",
    "PIX (celular): 37991039590 - Leonardo Henrique Paim\n",
    "\n",
    "1. Ter compromisso de ir se tiver colocado nome na lista.\n",
    "2. Convidados adicionamos a partir de quarta-feira.\n",
    "\n",
    "Vão adicionando o nome aí!\n",
    "\n",
    "1. Ariston ✅\n",
    "2. Kevin ✅\n",
    "3. Rodrigo ✅\n",
    "4. Eli ✅\n",
    "5. Fael ✅\n",
    "6. Pablo H. ✅\n",
    "7. Wilson ✅\n",
    "8. Ualisson ✅\n",
    "9. Travado ✅\n",
    "10. Thainã ✅\n",
    "11. Kleiton ✅\n",
    "12. Mathias\n",
    "13. Jean\n",
    "14. João Martins ✅\n",
    "15. Iuri\n",
    "16. Aikon\n",
    "17. Thiago André \n",
    "18. Wellington \n",
    "19. Paulo Ricardo \n",
    "\n",
    "Aguardando vaga:\n",
    "\n",
    "- Lukinha (Léo)\n",
    "- Dener (joao)\n",
    "- Rhuan(Kleiton)\n",
    "- Iago (Kleiton)\n",
    "- Pig (Rafael )\n",
    "\n",
    "Lista fecha em 19 pessoas!\n",
    "\"\"\"\n",
    "\n",
    "# Encontrar todas as linhas da lista de nomes\n",
    "lista_nomes = re.findall(r\"\\d+\\.\\s*(\\w.*)\\s*(?:✅|$)\", texto_base)\n",
    "\n",
    "# Criar uma nova string com os nomes em cada linha\n",
    "nova_string = \"\\n\".join(lista_nomes)\n",
    "\n",
    "# Imprimir a nova string com os nomes\n",
    "print(nova_string)"
   ]
  }
 ],
 "metadata": {
  "kernelspec": {
   "display_name": "Python 3",
   "language": "python",
   "name": "python3"
  },
  "language_info": {
   "codemirror_mode": {
    "name": "ipython",
    "version": 3
   },
   "file_extension": ".py",
   "mimetype": "text/x-python",
   "name": "python",
   "nbconvert_exporter": "python",
   "pygments_lexer": "ipython3",
   "version": "3.10.10"
  },
  "orig_nbformat": 4
 },
 "nbformat": 4,
 "nbformat_minor": 2
}
