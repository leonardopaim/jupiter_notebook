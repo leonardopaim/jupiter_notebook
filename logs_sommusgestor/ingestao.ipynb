{
 "cells": [
  {
   "cell_type": "code",
   "execution_count": 7,
   "metadata": {},
   "outputs": [
    {
     "name": "stdout",
     "output_type": "stream",
     "text": [
      "400\n",
      "{\"Error\":\"Events must carry a `Timestamp` property.\"}\n"
     ]
    }
   ],
   "source": [
    "import json\n",
    "import requests\n",
    "\n",
    "url = \"http://localhost:5341/api/events/raw\"\n",
    "file_path = 'D:\\\\LogEstruturado SG\\\\Producao\\\\sommusgestor.log20240619.json'\n",
    "\n",
    "# Lê todo o conteúdo do arquivo\n",
    "with open(file_path, 'r') as file:\n",
    "    logs = file.readlines()\n",
    "\n",
    "# Cada linha no arquivo representa um evento JSON. Precisamos carregar cada linha como JSON e adicionar a um array.\n",
    "events = []\n",
    "for log in logs:\n",
    "    try:\n",
    "        event = json.loads(log)\n",
    "        # Adiciona a propriedade MessageTemplate se @mt estiver presente\n",
    "        if '@mt' in event:\n",
    "            event['MessageTemplate'] = event['@mt']\n",
    "        # Adiciona a propriedade Timestamp se @t estiver presente\n",
    "        if '@t' in event:\n",
    "            event['Timestamp'] = event['@t']\n",
    "        events.append(event)\n",
    "    except json.JSONDecodeError as e:\n",
    "        print(f\"Erro ao decodificar linha: {log}\")\n",
    "        print(e)\n",
    "\n",
    "# Cria a estrutura esperada pela API do Seq\n",
    "payload = {'Events': events}\n",
    "\n",
    "headers = {'Content-Type': 'application/json'}\n",
    "response = requests.post(url, headers=headers, data=json.dumps(payload))\n",
    "\n",
    "print(response.status_code)\n",
    "print(response.text)\n"
   ]
  }
 ],
 "metadata": {
  "kernelspec": {
   "display_name": "Python 3",
   "language": "python",
   "name": "python3"
  },
  "language_info": {
   "codemirror_mode": {
    "name": "ipython",
    "version": 3
   },
   "file_extension": ".py",
   "mimetype": "text/x-python",
   "name": "python",
   "nbconvert_exporter": "python",
   "pygments_lexer": "ipython3",
   "version": "3.11.9"
  }
 },
 "nbformat": 4,
 "nbformat_minor": 2
}
