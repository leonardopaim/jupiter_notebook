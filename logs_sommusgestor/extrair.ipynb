{
 "cells": [
  {
   "cell_type": "code",
   "execution_count": 12,
   "metadata": {},
   "outputs": [],
   "source": [
    "import os\n",
    "import re\n",
    "from collections import defaultdict\n",
    "\n",
    "def extract_exceptions_from_log(log_content):\n",
    "    \"\"\"\n",
    "    Extrai a mensagem de exceção do conteúdo do arquivo log.\n",
    "    \"\"\"\n",
    "    exception_pattern = re.compile(r\"Exception\\s+:\\s*\\n\\s*(.+)\")\n",
    "    matches = exception_pattern.findall(log_content)\n",
    "    return matches\n",
    "\n",
    "def process_log_files(root_folder):\n",
    "    \"\"\"\n",
    "    Percorre a pasta raiz e subpastas, processando arquivos .log e extraindo mensagens de exceção.\n",
    "    \"\"\"\n",
    "    exception_counter = defaultdict(int)\n",
    "    \n",
    "    for subdir, _, files in os.walk(root_folder):\n",
    "        for file in files:\n",
    "            if file.endswith('.log'):\n",
    "                file_path = os.path.join(subdir, file)\n",
    "                with open(file_path, 'r', encoding='utf-8') as log_file:\n",
    "                    log_content = log_file.read()\n",
    "                    exceptions = extract_exceptions_from_log(log_content)\n",
    "                    for exception in exceptions:\n",
    "                        exception_counter[exception.strip()] += 1\n",
    "    \n",
    "    return exception_counter\n",
    "\n",
    "def main():\n",
    "    root_folder = 'D:\\\\Sommus S3 LogException\\\\05\\\\27'  # Substitua pelo caminho da sua pasta\n",
    "    exception_counter = process_log_files(root_folder)\n",
    "    \n",
    "    sorted_exceptions = sorted(exception_counter.items(), key=lambda item: item[1], reverse=True)\n",
    "    \n",
    "    total_exceptions = sum(exception_counter.values())\n",
    "    \n",
    "    print(\"| Mensagem de Exceção                              | Contagem |\")\n",
    "    print(\"|--------------------------------------------------|----------|\")\n",
    "    for exception, count in sorted_exceptions:\n",
    "        print(f\"| {exception:<48} | {count:<8} |\")\n",
    "    print(\"|--------------------------------------------------|----------|\")\n",
    "    print(f\"| **Total de Exceções**                            | {total_exceptions:<8} |\")"
   ]
  },
  {
   "cell_type": "code",
   "execution_count": 13,
   "metadata": {},
   "outputs": [
    {
     "name": "stdout",
     "output_type": "stream",
     "text": [
      "| Mensagem de Exceção                              | Contagem |\n",
      "|--------------------------------------------------|----------|\n",
      "| MySql.Data.MySqlClient.MySqlException            | 18       |\n",
      "| No database selected                             | 10       |\n",
      "| Fatal error encountered during command execution. | 6        |\n",
      "| System.Exception                                 | 4        |\n",
      "| Exceção do tipo 'System.Exception' foi acionada. | 4        |\n",
      "| Duplicate entry '5-2024-05-27' for key 'conta_saldo.PRIMARY' | 2        |\n",
      "|--------------------------------------------------|----------|\n",
      "| **Total de Exceções**                            | 44       |\n"
     ]
    }
   ],
   "source": [
    "main()"
   ]
  }
 ],
 "metadata": {
  "kernelspec": {
   "display_name": "Python 3",
   "language": "python",
   "name": "python3"
  },
  "language_info": {
   "codemirror_mode": {
    "name": "ipython",
    "version": 3
   },
   "file_extension": ".py",
   "mimetype": "text/x-python",
   "name": "python",
   "nbconvert_exporter": "python",
   "pygments_lexer": "ipython3",
   "version": "3.11.9"
  }
 },
 "nbformat": 4,
 "nbformat_minor": 2
}
