{
 "cells": [
  {
   "cell_type": "code",
   "execution_count": null,
   "metadata": {},
   "outputs": [],
   "source": [
    "#! pip install pytube;"
   ]
  },
  {
   "cell_type": "code",
   "execution_count": 1,
   "metadata": {},
   "outputs": [],
   "source": [
    "import pytube as pt\n",
    "from pytube import Playlist\n",
    "import os\n",
    "pasta = \"videos\""
   ]
  },
  {
   "cell_type": "markdown",
   "metadata": {},
   "source": [
    "# Baixar um vídeo específico\n",
    "\n",
    "Definir a pasta, a subpasta e a lista de URL's."
   ]
  },
  {
   "cell_type": "code",
   "execution_count": 15,
   "metadata": {},
   "outputs": [],
   "source": [
    "subpasta = \"NLW\"\n",
    "urls = [\n",
    "    \"https://youtu.be/Y5iXjroI9AM\",\n",
    "    \"https://youtu.be/4GNrLhF7ytI\",\n",
    "    \"https://youtu.be/zTBN8Gok9rg\",\n",
    "    \"https://youtu.be/f28hK9cMqHo\",\n",
    "    \"https://youtu.be/1deZ6dA-3f0\",\n",
    "    \"https://youtu.be/pBTfr-AFu8M\",\n",
    "    \"https://youtu.be/62wnUUbjdnk\",    \n",
    "]\n",
    "\n",
    "if len(subpasta) > 0:\n",
    "    pasta = \"\\\\\".join([pasta, subpasta])\n",
    "\n",
    "pasta_existe = os.path.exists(pasta)\n",
    "if not pasta_existe:\n",
    "    os.mkdir(pasta)\n",
    "\n",
    "contagem = 0\n",
    "\n",
    "for url in urls:\n",
    "    contagem = contagem + 1\n",
    "\n",
    "    if len(url) > 0:\n",
    "        youtube = pt.YouTube(url)\n",
    "        stream = youtube.streams.get_highest_resolution()\n",
    "        stream.download(pasta, filename_prefix=str(contagem).zfill(2) + \" - \");"
   ]
  },
  {
   "cell_type": "markdown",
   "metadata": {},
   "source": [
    "# Baixar playlists completas\n",
    "\n",
    "Definir a pasta principal, a subpasta e o url da playlist. Todos os vídeos serão baixados e numerados na sequência que se encontram na playlist."
   ]
  },
  {
   "cell_type": "code",
   "execution_count": 7,
   "metadata": {},
   "outputs": [],
   "source": [
    "subpasta = \"DDD do jeito certo\"\n",
    "url_playlist = \"https://www.youtube.com/playlist?list=PLkpjQs-GfEMN8CHp7tIQqg6JFowrIX9ve\"\n",
    "\n",
    "if len(subpasta) > 0:\n",
    "    pasta = \"\\\\\".join([pasta, subpasta])\n",
    "\n",
    "pasta_existe = os.path.exists(pasta)\n",
    "if not pasta_existe:\n",
    "    os.mkdir(pasta)\n",
    "\n",
    "playlist = Playlist(url_playlist)\n",
    "\n",
    "urls = playlist.video_urls\n",
    "\n",
    "contagem = 0\n",
    "\n",
    "for url in urls:\n",
    "    contagem = contagem + 1\n",
    "    \n",
    "    if len(url) > 0:\n",
    "        youtube = pt.YouTube(url)\n",
    "        stream = youtube.streams.get_highest_resolution()\n",
    "        stream.download(pasta, filename_prefix=str(contagem).zfill(2) + \" - \");"
   ]
  }
 ],
 "metadata": {
  "kernelspec": {
   "display_name": "Python 3.10.7 64-bit (microsoft store)",
   "language": "python",
   "name": "python3"
  },
  "language_info": {
   "codemirror_mode": {
    "name": "ipython",
    "version": 3
   },
   "file_extension": ".py",
   "mimetype": "text/x-python",
   "name": "python",
   "nbconvert_exporter": "python",
   "pygments_lexer": "ipython3",
   "version": "3.10.7"
  },
  "orig_nbformat": 4,
  "vscode": {
   "interpreter": {
    "hash": "0cc338008178a1214e27db39d3f98c32ba31c00ac11362c1983256bb5ef1e9b4"
   }
  }
 },
 "nbformat": 4,
 "nbformat_minor": 2
}
