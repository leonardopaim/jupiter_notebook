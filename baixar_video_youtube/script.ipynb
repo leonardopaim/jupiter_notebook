{
 "cells": [
  {
   "cell_type": "code",
   "execution_count": null,
   "metadata": {},
   "outputs": [],
   "source": [
    "#! pip install pytube;"
   ]
  },
  {
   "cell_type": "code",
   "execution_count": 2,
   "metadata": {},
   "outputs": [],
   "source": [
    "import pytube as pt\n",
    "from pytube import Playlist\n",
    "import os"
   ]
  },
  {
   "cell_type": "markdown",
   "metadata": {},
   "source": [
    "# Baixar um vídeo específico\n",
    "\n",
    "Definir a pasta, a subpasta e a lista de URL's."
   ]
  },
  {
   "cell_type": "code",
   "execution_count": 3,
   "metadata": {},
   "outputs": [],
   "source": [
    "pasta = \"videos\"\n",
    "subpasta = \"Bot Catalogador Blaze\"\n",
    "urls = [\n",
    "    \"https://www.youtube.com/watch?v=qQYgEvGcPw0\",\n",
    "    \"https://www.youtube.com/watch?v=spA6-NNEKSg\",\n",
    "    \"https://www.youtube.com/watch?v=NUEdU-G3pOc\",\n",
    "    \"https://www.youtube.com/watch?v=2STPFCXChAA\",\n",
    "]\n",
    "\n",
    "if len(subpasta) > 0:\n",
    "    pasta = \"\\\\\".join([pasta, subpasta])\n",
    "\n",
    "pasta_existe = os.path.exists(pasta)\n",
    "if not pasta_existe:\n",
    "    os.mkdir(pasta)\n",
    "\n",
    "contagem = 0\n",
    "\n",
    "for url in urls:\n",
    "    contagem = contagem + 1\n",
    "\n",
    "    if len(url) > 0:\n",
    "        youtube = pt.YouTube(url)\n",
    "        stream = youtube.streams.get_highest_resolution()\n",
    "        stream.download(pasta, filename_prefix=str(contagem).zfill(2) + \" - \");"
   ]
  },
  {
   "cell_type": "markdown",
   "metadata": {},
   "source": [
    "# Baixar playlists completas\n",
    "\n",
    "Definir a pasta principal, a subpasta e o url da playlist. Todos os vídeos serão baixados e numerados na sequência que se encontram na playlist."
   ]
  },
  {
   "cell_type": "code",
   "execution_count": 3,
   "metadata": {},
   "outputs": [],
   "source": [
    "pasta = \"videos\"\n",
    "url_playlist = \"https://www.youtube.com/playlist?list=PLkpjQs-GfEMNcWDlIck2I5TGBSSRCK39L\"\n",
    "\n",
    "playlist = Playlist(url_playlist)\n",
    "\n",
    "subpasta = playlist.title\n",
    "\n",
    "pasta = \"\\\\\".join([pasta, subpasta])\n",
    "pasta_existe = os.path.exists(pasta)\n",
    "if not pasta_existe:\n",
    "    os.mkdir(pasta)\n",
    "    \n",
    "urls = playlist.video_urls\n",
    "\n",
    "contagem = 0\n",
    "\n",
    "for url in urls:\n",
    "    contagem = contagem + 1\n",
    "    \n",
    "    if len(url) > 0:\n",
    "        youtube = pt.YouTube(url)\n",
    "        stream = youtube.streams.get_highest_resolution()\n",
    "        stream.download(pasta, filename_prefix=str(contagem).zfill(2) + \" - \");"
   ]
  }
 ],
 "metadata": {
  "kernelspec": {
   "display_name": "Python 3.10.7 64-bit (microsoft store)",
   "language": "python",
   "name": "python3"
  },
  "language_info": {
   "codemirror_mode": {
    "name": "ipython",
    "version": 3
   },
   "file_extension": ".py",
   "mimetype": "text/x-python",
   "name": "python",
   "nbconvert_exporter": "python",
   "pygments_lexer": "ipython3",
   "version": "3.10.9"
  },
  "orig_nbformat": 4,
  "vscode": {
   "interpreter": {
    "hash": "0cc338008178a1214e27db39d3f98c32ba31c00ac11362c1983256bb5ef1e9b4"
   }
  }
 },
 "nbformat": 4,
 "nbformat_minor": 2
}
