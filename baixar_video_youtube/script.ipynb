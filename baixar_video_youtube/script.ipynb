{
 "cells": [
  {
   "cell_type": "code",
   "execution_count": null,
   "metadata": {},
   "outputs": [],
   "source": [
    "#! pip install pytube;"
   ]
  },
  {
   "cell_type": "code",
   "execution_count": 1,
   "metadata": {},
   "outputs": [],
   "source": [
    "import pytube as pt\n",
    "import os"
   ]
  },
  {
   "cell_type": "code",
   "execution_count": 7,
   "metadata": {},
   "outputs": [],
   "source": [
    "pasta = \"videos\"\n",
    "\n",
    "subpasta = input(\"Nome da subpasta (se não tiver deixar vazio): \")\n",
    "if len(subpasta) > 0:\n",
    "    pasta = \"\\\\\".join([pasta, subpasta])\n",
    "\n",
    "pasta_existe = os.path.exists(pasta)\n",
    "if not pasta_existe:\n",
    "    os.mkdir(pasta)\n",
    "\n",
    "url_do_video = input(\"URL do Vídeo: \")\n",
    "\n",
    "if len(url_do_video) > 0:\n",
    "    youtube = pt.YouTube(url_do_video)\n",
    "    stream = youtube.streams.get_highest_resolution()\n",
    "    stream.download(pasta);"
   ]
  }
 ],
 "metadata": {
  "kernelspec": {
   "display_name": "Python 3.10.7 64-bit (microsoft store)",
   "language": "python",
   "name": "python3"
  },
  "language_info": {
   "codemirror_mode": {
    "name": "ipython",
    "version": 3
   },
   "file_extension": ".py",
   "mimetype": "text/x-python",
   "name": "python",
   "nbconvert_exporter": "python",
   "pygments_lexer": "ipython3",
   "version": "3.10.7"
  },
  "orig_nbformat": 4,
  "vscode": {
   "interpreter": {
    "hash": "0cc338008178a1214e27db39d3f98c32ba31c00ac11362c1983256bb5ef1e9b4"
   }
  }
 },
 "nbformat": 4,
 "nbformat_minor": 2
}
