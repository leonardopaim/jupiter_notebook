{
 "cells": [
  {
   "cell_type": "code",
   "execution_count": 3,
   "metadata": {},
   "outputs": [
    {
     "name": "stdout",
     "output_type": "stream",
     "text": [
      "Requirement already satisfied: PyPDF2 in c:\\users\\leonardo\\appdata\\local\\packages\\pythonsoftwarefoundation.python.3.10_qbz5n2kfra8p0\\localcache\\local-packages\\python310\\site-packages (3.0.1)\n",
      "Requirement already satisfied: tabula-py in c:\\users\\leonardo\\appdata\\local\\packages\\pythonsoftwarefoundation.python.3.10_qbz5n2kfra8p0\\localcache\\local-packages\\python310\\site-packages (2.7.0)\n",
      "Requirement already satisfied: pandas>=0.25.3 in c:\\users\\leonardo\\appdata\\local\\packages\\pythonsoftwarefoundation.python.3.10_qbz5n2kfra8p0\\localcache\\local-packages\\python310\\site-packages (from tabula-py) (2.0.3)\n",
      "Requirement already satisfied: numpy in c:\\users\\leonardo\\appdata\\local\\packages\\pythonsoftwarefoundation.python.3.10_qbz5n2kfra8p0\\localcache\\local-packages\\python310\\site-packages (from tabula-py) (1.25.1)\n",
      "Requirement already satisfied: distro in c:\\users\\leonardo\\appdata\\local\\packages\\pythonsoftwarefoundation.python.3.10_qbz5n2kfra8p0\\localcache\\local-packages\\python310\\site-packages (from tabula-py) (1.8.0)\n",
      "Requirement already satisfied: python-dateutil>=2.8.2 in c:\\users\\leonardo\\appdata\\local\\packages\\pythonsoftwarefoundation.python.3.10_qbz5n2kfra8p0\\localcache\\local-packages\\python310\\site-packages (from pandas>=0.25.3->tabula-py) (2.8.2)\n",
      "Requirement already satisfied: pytz>=2020.1 in c:\\users\\leonardo\\appdata\\local\\packages\\pythonsoftwarefoundation.python.3.10_qbz5n2kfra8p0\\localcache\\local-packages\\python310\\site-packages (from pandas>=0.25.3->tabula-py) (2023.3)\n",
      "Requirement already satisfied: tzdata>=2022.1 in c:\\users\\leonardo\\appdata\\local\\packages\\pythonsoftwarefoundation.python.3.10_qbz5n2kfra8p0\\localcache\\local-packages\\python310\\site-packages (from pandas>=0.25.3->tabula-py) (2022.4)\n",
      "Requirement already satisfied: six>=1.5 in c:\\users\\leonardo\\appdata\\local\\packages\\pythonsoftwarefoundation.python.3.10_qbz5n2kfra8p0\\localcache\\local-packages\\python310\\site-packages (from python-dateutil>=2.8.2->pandas>=0.25.3->tabula-py) (1.16.0)\n"
     ]
    }
   ],
   "source": [
    "! pip install PyPDF2;\n",
    "! pip install tabula-py;"
   ]
  },
  {
   "cell_type": "code",
   "execution_count": 17,
   "metadata": {},
   "outputs": [],
   "source": [
    "import tabula\n",
    "import json\n",
    "\n",
    "# Carregando arquivo PDF\n",
    "lista_tabelas = tabula.read_pdf(f'C:\\\\Users\\\\Leonardo\\\\Desktop\\\\Guia Prático EFD - Versão 3.1.4.pdf', pages='all', encoding='utf-8')"
   ]
  },
  {
   "cell_type": "code",
   "execution_count": 25,
   "metadata": {},
   "outputs": [
    {
     "name": "stdout",
     "output_type": "stream",
     "text": [
      "[{\"Bloco\": \"0\", \"Descri\\u00e7\\u00e3o\": \"Abertura, Identifica\\u00e7\\u00e3o e Refer\\u00eancias\"}, {\"Bloco\": \"B***\", \"Descri\\u00e7\\u00e3o\": \"Escritura\\u00e7\\u00e3o e Apura\\u00e7\\u00e3o do ISS\"}, {\"Bloco\": \"C\", \"Descri\\u00e7\\u00e3o\": \"Documentos Fiscais I \\u2013 Mercadorias (ICMS/IPI)\"}, {\"Bloco\": \"D\", \"Descri\\u00e7\\u00e3o\": \"Documentos Fiscais II \\u2013 Servi\\u00e7os (ICMS)\"}, {\"Bloco\": \"E\", \"Descri\\u00e7\\u00e3o\": \"Apura\\u00e7\\u00e3o do ICMS e do IPI\"}, {\"Bloco\": \"G*\", \"Descri\\u00e7\\u00e3o\": \"Controle do Cr\\u00e9dito de ICMS do Ativo Permanente \\u2013 CIAP\"}, {\"Bloco\": \"H\", \"Descri\\u00e7\\u00e3o\": \"Invent\\u00e1rio F\\u00edsico\"}, {\"Bloco\": \"K**\", \"Descri\\u00e7\\u00e3o\": \"Controle da Produ\\u00e7\\u00e3o e do Estoque\"}, {\"Bloco\": \"1\", \"Descri\\u00e7\\u00e3o\": \"Outras Informa\\u00e7\\u00f5es\"}, {\"Bloco\": \"9\", \"Descri\\u00e7\\u00e3o\": \"Controle e Encerramento do Arquivo Digital\"}]\n"
     ]
    }
   ],
   "source": [
    "tabela = lista_tabelas[0]\n",
    "\n",
    "# Obter os cabeçalhos da tabela\n",
    "colunas = tabela.columns.tolist()\n",
    "\n",
    "# Criar a lista de registros no formato desejado\n",
    "registros = []\n",
    "for linha in tabela.itertuples(index=False):\n",
    "    registro = {colunas[i]: valor for i, valor in enumerate(linha)}\n",
    "    registros.append(registro)\n",
    "\n",
    "# Criar o JSON a partir da lista de registros\n",
    "json_tables = json.dumps(registros)\n",
    "\n",
    "print(json_tables)"
   ]
  }
 ],
 "metadata": {
  "kernelspec": {
   "display_name": "Python 3",
   "language": "python",
   "name": "python3"
  },
  "language_info": {
   "codemirror_mode": {
    "name": "ipython",
    "version": 3
   },
   "file_extension": ".py",
   "mimetype": "text/x-python",
   "name": "python",
   "nbconvert_exporter": "python",
   "pygments_lexer": "ipython3",
   "version": "3.10.11"
  },
  "orig_nbformat": 4
 },
 "nbformat": 4,
 "nbformat_minor": 2
}
