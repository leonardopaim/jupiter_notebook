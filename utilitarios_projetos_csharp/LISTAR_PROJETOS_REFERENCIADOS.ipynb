{
 "cells": [
  {
   "cell_type": "code",
   "execution_count": null,
   "metadata": {},
   "outputs": [],
   "source": [
    "! pip install lxml"
   ]
  },
  {
   "cell_type": "code",
   "execution_count": 1,
   "metadata": {},
   "outputs": [],
   "source": [
    "import os\n",
    "import xml.etree.ElementTree as ET\n",
    "\n",
    "def find_referenced_project(solution_path, target_project_reference):\n",
    "    matching_projects = []\n",
    "\n",
    "    # Encontrar arquivos de projeto (.csproj) na solução\n",
    "    for foldername, _, filenames in os.walk(solution_path):\n",
    "        for filename in filenames:\n",
    "            if filename.endswith('.csproj'):\n",
    "                csproj_path = os.path.join(foldername, filename)\n",
    "\n",
    "                # Verificar se o projeto de destino é referenciado no arquivo .csproj\n",
    "                with open(csproj_path, 'r', encoding='utf-8') as file:\n",
    "                    csproj_content = file.read()\n",
    "                    if target_project_reference in csproj_content:\n",
    "                        matching_projects.append(csproj_path)\n",
    "\n",
    "    return matching_projects"
   ]
  },
  {
   "cell_type": "code",
   "execution_count": 7,
   "metadata": {},
   "outputs": [
    {
     "name": "stdout",
     "output_type": "stream",
     "text": [
      "Projetos que referenciam 'Sommus.Gestor.Library.CTe.csproj':\n",
      "- C:\\Sommus\\SommusGestor-web\\src\\CTe\\Infra\\Sommus.Gestor.CTe.Infra\\Sommus.Gestor.CTe.Infra.csproj\n"
     ]
    }
   ],
   "source": [
    "# Substitua o caminho abaixo pelo caminho da sua solução C#\n",
    "solution_path = r'C:\\Sommus\\SommusGestor-web\\src'\n",
    "target_reference = r'Sommus.Gestor.Library.CTe.csproj'\n",
    "\n",
    "result_projects = find_referenced_project(solution_path, target_reference)\n",
    "\n",
    "if result_projects:\n",
    "    print(f\"Projetos que referenciam '{target_reference}':\")\n",
    "    for project_path in result_projects:\n",
    "        print(f\"- {project_path}\")\n",
    "else:\n",
    "    print(f\"Nenhum projeto referenciando '{target_reference}' foi encontrado na solução.\")"
   ]
  }
 ],
 "metadata": {
  "kernelspec": {
   "display_name": "Python 3",
   "language": "python",
   "name": "python3"
  },
  "language_info": {
   "codemirror_mode": {
    "name": "ipython",
    "version": 3
   },
   "file_extension": ".py",
   "mimetype": "text/x-python",
   "name": "python",
   "nbconvert_exporter": "python",
   "pygments_lexer": "ipython3",
   "version": "3.10.11"
  }
 },
 "nbformat": 4,
 "nbformat_minor": 2
}
