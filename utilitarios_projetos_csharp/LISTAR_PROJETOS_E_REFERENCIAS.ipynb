{
 "cells": [
  {
   "cell_type": "code",
   "execution_count": null,
   "metadata": {},
   "outputs": [],
   "source": [
    "! pip install lxml"
   ]
  },
  {
   "cell_type": "code",
   "execution_count": 28,
   "metadata": {},
   "outputs": [],
   "source": [
    "import os\n",
    "import xml.etree.ElementTree as ET\n",
    "\n",
    "def get_assembly_name(csproj_content):\n",
    "    assembly_name_start = csproj_content.find(\"<AssemblyName>\") + len(\"<AssemblyName>\")\n",
    "    assembly_name_end = csproj_content.find(\"</AssemblyName>\")\n",
    "    return csproj_content[assembly_name_start:assembly_name_end].strip()\n",
    "\n",
    "def find_referenced_assemblies(solution_path):\n",
    "    assemblies = {}\n",
    "\n",
    "    # Encontrar arquivos de projeto (.csproj) na solução\n",
    "    for foldername, _, filenames in os.walk(solution_path):\n",
    "        for filename in filenames:\n",
    "            if filename.endswith('.csproj'):\n",
    "                csproj_path = os.path.join(foldername, filename)\n",
    "\n",
    "                # Obter o nome do projeto\n",
    "                project_name = os.path.splitext(filename)[0]\n",
    "\n",
    "                # Ler conteúdo do arquivo de projeto C#\n",
    "                with open(csproj_path, 'r', encoding='utf-8') as file:\n",
    "                    csproj_content = file.read()\n",
    "\n",
    "                    # Obter o nome do assembly\n",
    "                    assembly_name = get_assembly_name(csproj_content)\n",
    "                    assemblies[project_name] = assembly_name\n",
    "\n",
    "    return assemblies\n",
    "\n",
    "def find_referenced_assemblies_in_references(solution_path, target_assembly_name):\n",
    "    referenced_assemblies = {}\n",
    "\n",
    "    # Encontrar arquivos de projeto (.csproj) na solução\n",
    "    for foldername, _, filenames in os.walk(solution_path):\n",
    "        for filename in filenames:\n",
    "            if filename.endswith('.csproj'):\n",
    "                csproj_path = os.path.join(foldername, filename)\n",
    "\n",
    "                # Obter o nome do projeto\n",
    "                project_name = os.path.splitext(filename)[0]\n",
    "\n",
    "                # Ler conteúdo do arquivo de projeto C#\n",
    "                with open(csproj_path, 'r', encoding='utf-8') as file:\n",
    "                    csproj_content = file.read()\n",
    "\n",
    "                    # Procurar referências ao assembly\n",
    "                    root = ET.fromstring(csproj_content)\n",
    "                    projectReferences = root.findall(\"./Project/ProjectReference\")\n",
    "                    references = [ref.find(\"Name\").text.strip() for ref in projectReferences if ref is not None]\n",
    "                    if target_assembly_name in references:\n",
    "                        referenced_assemblies[project_name] = references\n",
    "\n",
    "    return referenced_assemblies\n",
    "\n",
    "def generate_assemblies_table(assemblies):\n",
    "    print(\"| Projeto | Assembly Name |\")\n",
    "    print(\"|---------|---------------|\")\n",
    "    for project_name, assembly_name in assemblies.items():\n",
    "        print(f\"| {project_name} | {assembly_name} |\")"
   ]
  },
  {
   "cell_type": "code",
   "execution_count": 29,
   "metadata": {},
   "outputs": [
    {
     "ename": "KeyboardInterrupt",
     "evalue": "",
     "output_type": "error",
     "traceback": [
      "\u001b[1;31m---------------------------------------------------------------------------\u001b[0m",
      "\u001b[1;31mKeyboardInterrupt\u001b[0m                         Traceback (most recent call last)",
      "Cell \u001b[1;32mIn [29], line 6\u001b[0m\n\u001b[0;32m      4\u001b[0m assemblies \u001b[38;5;241m=\u001b[39m find_referenced_assemblies(solution_path)\n\u001b[0;32m      5\u001b[0m target_assembly_name \u001b[38;5;241m=\u001b[39m \u001b[38;5;28mlist\u001b[39m(assemblies\u001b[38;5;241m.\u001b[39mvalues())[\u001b[38;5;241m0\u001b[39m]  \u001b[38;5;66;03m# Pegar o primeiro assembly como exemplo\u001b[39;00m\n\u001b[1;32m----> 6\u001b[0m referenced_assemblies \u001b[38;5;241m=\u001b[39m \u001b[43mfind_referenced_assemblies_in_references\u001b[49m\u001b[43m(\u001b[49m\u001b[43msolution_path\u001b[49m\u001b[43m,\u001b[49m\u001b[43m \u001b[49m\u001b[43mtarget_assembly_name\u001b[49m\u001b[43m)\u001b[49m\n\u001b[0;32m      8\u001b[0m generate_assemblies_table(referenced_assemblies)\n",
      "Cell \u001b[1;32mIn [28], line 50\u001b[0m, in \u001b[0;36mfind_referenced_assemblies_in_references\u001b[1;34m(solution_path, target_assembly_name)\u001b[0m\n\u001b[0;32m     48\u001b[0m root \u001b[38;5;241m=\u001b[39m ET\u001b[38;5;241m.\u001b[39mfromstring(csproj_content)\n\u001b[0;32m     49\u001b[0m projectReferences \u001b[38;5;241m=\u001b[39m root\u001b[38;5;241m.\u001b[39mfindall(\u001b[38;5;124m\"\u001b[39m\u001b[38;5;124m./Project/ProjectReference\u001b[39m\u001b[38;5;124m\"\u001b[39m)\n\u001b[1;32m---> 50\u001b[0m references \u001b[38;5;241m=\u001b[39m [ref\u001b[38;5;241m.\u001b[39mfind(\u001b[38;5;124m\"\u001b[39m\u001b[38;5;124mName\u001b[39m\u001b[38;5;124m\"\u001b[39m)\u001b[38;5;241m.\u001b[39mtext\u001b[38;5;241m.\u001b[39mstrip() \u001b[38;5;28;01mfor\u001b[39;00m ref \u001b[38;5;129;01min\u001b[39;00m projectReferences \u001b[38;5;28;01mif\u001b[39;00m ref \u001b[38;5;129;01mis\u001b[39;00m \u001b[38;5;129;01mnot\u001b[39;00m \u001b[38;5;28;01mNone\u001b[39;00m]\n\u001b[0;32m     51\u001b[0m \u001b[38;5;28;01mif\u001b[39;00m target_assembly_name \u001b[38;5;129;01min\u001b[39;00m references:\n\u001b[0;32m     52\u001b[0m     referenced_assemblies[project_name] \u001b[38;5;241m=\u001b[39m references\n",
      "Cell \u001b[1;32mIn [28], line 50\u001b[0m, in \u001b[0;36mfind_referenced_assemblies_in_references\u001b[1;34m(solution_path, target_assembly_name)\u001b[0m\n\u001b[0;32m     48\u001b[0m root \u001b[38;5;241m=\u001b[39m ET\u001b[38;5;241m.\u001b[39mfromstring(csproj_content)\n\u001b[0;32m     49\u001b[0m projectReferences \u001b[38;5;241m=\u001b[39m root\u001b[38;5;241m.\u001b[39mfindall(\u001b[38;5;124m\"\u001b[39m\u001b[38;5;124m./Project/ProjectReference\u001b[39m\u001b[38;5;124m\"\u001b[39m)\n\u001b[1;32m---> 50\u001b[0m references \u001b[38;5;241m=\u001b[39m [ref\u001b[38;5;241m.\u001b[39mfind(\u001b[38;5;124m\"\u001b[39m\u001b[38;5;124mName\u001b[39m\u001b[38;5;124m\"\u001b[39m)\u001b[38;5;241m.\u001b[39mtext\u001b[38;5;241m.\u001b[39mstrip() \u001b[38;5;28;01mfor\u001b[39;00m ref \u001b[38;5;129;01min\u001b[39;00m projectReferences \u001b[38;5;28;01mif\u001b[39;00m ref \u001b[38;5;129;01mis\u001b[39;00m \u001b[38;5;129;01mnot\u001b[39;00m \u001b[38;5;28;01mNone\u001b[39;00m]\n\u001b[0;32m     51\u001b[0m \u001b[38;5;28;01mif\u001b[39;00m target_assembly_name \u001b[38;5;129;01min\u001b[39;00m references:\n\u001b[0;32m     52\u001b[0m     referenced_assemblies[project_name] \u001b[38;5;241m=\u001b[39m references\n",
      "File \u001b[1;32m_pydevd_bundle/pydevd_cython.pyx:1443\u001b[0m, in \u001b[0;36m_pydevd_bundle.pydevd_cython.SafeCallWrapper.__call__\u001b[1;34m()\u001b[0m\n",
      "File \u001b[1;32m_pydevd_bundle/pydevd_cython.pyx:700\u001b[0m, in \u001b[0;36m_pydevd_bundle.pydevd_cython.PyDBFrame.trace_dispatch\u001b[1;34m()\u001b[0m\n",
      "File \u001b[1;32m_pydevd_bundle/pydevd_cython.pyx:1368\u001b[0m, in \u001b[0;36m_pydevd_bundle.pydevd_cython.PyDBFrame.trace_dispatch\u001b[1;34m()\u001b[0m\n",
      "File \u001b[1;32m_pydevd_bundle/pydevd_cython.pyx:1330\u001b[0m, in \u001b[0;36m_pydevd_bundle.pydevd_cython.PyDBFrame.trace_dispatch\u001b[1;34m()\u001b[0m\n",
      "File \u001b[1;32m_pydevd_bundle/pydevd_cython.pyx:311\u001b[0m, in \u001b[0;36m_pydevd_bundle.pydevd_cython.PyDBFrame.do_wait_suspend\u001b[1;34m()\u001b[0m\n",
      "File \u001b[1;32m~\\AppData\\Local\\Packages\\PythonSoftwareFoundation.Python.3.10_qbz5n2kfra8p0\\LocalCache\\local-packages\\Python310\\site-packages\\debugpy\\_vendored\\pydevd\\pydevd.py:2062\u001b[0m, in \u001b[0;36mPyDB.do_wait_suspend\u001b[1;34m(self, thread, frame, event, arg, exception_type)\u001b[0m\n\u001b[0;32m   2059\u001b[0m             from_this_thread\u001b[38;5;241m.\u001b[39mappend(frame_custom_thread_id)\n\u001b[0;32m   2061\u001b[0m     \u001b[38;5;28;01mwith\u001b[39;00m \u001b[38;5;28mself\u001b[39m\u001b[38;5;241m.\u001b[39m_threads_suspended_single_notification\u001b[38;5;241m.\u001b[39mnotify_thread_suspended(thread_id, stop_reason):\n\u001b[1;32m-> 2062\u001b[0m         keep_suspended \u001b[38;5;241m=\u001b[39m \u001b[38;5;28;43mself\u001b[39;49m\u001b[38;5;241;43m.\u001b[39;49m\u001b[43m_do_wait_suspend\u001b[49m\u001b[43m(\u001b[49m\u001b[43mthread\u001b[49m\u001b[43m,\u001b[49m\u001b[43m \u001b[49m\u001b[43mframe\u001b[49m\u001b[43m,\u001b[49m\u001b[43m \u001b[49m\u001b[43mevent\u001b[49m\u001b[43m,\u001b[49m\u001b[43m \u001b[49m\u001b[43marg\u001b[49m\u001b[43m,\u001b[49m\u001b[43m \u001b[49m\u001b[43msuspend_type\u001b[49m\u001b[43m,\u001b[49m\u001b[43m \u001b[49m\u001b[43mfrom_this_thread\u001b[49m\u001b[43m,\u001b[49m\u001b[43m \u001b[49m\u001b[43mframes_tracker\u001b[49m\u001b[43m)\u001b[49m\n\u001b[0;32m   2064\u001b[0m frames_list \u001b[38;5;241m=\u001b[39m \u001b[38;5;28;01mNone\u001b[39;00m\n\u001b[0;32m   2066\u001b[0m \u001b[38;5;28;01mif\u001b[39;00m keep_suspended:\n\u001b[0;32m   2067\u001b[0m     \u001b[38;5;66;03m# This means that we should pause again after a set next statement.\u001b[39;00m\n",
      "File \u001b[1;32m~\\AppData\\Local\\Packages\\PythonSoftwareFoundation.Python.3.10_qbz5n2kfra8p0\\LocalCache\\local-packages\\Python310\\site-packages\\debugpy\\_vendored\\pydevd\\pydevd.py:2098\u001b[0m, in \u001b[0;36mPyDB._do_wait_suspend\u001b[1;34m(self, thread, frame, event, arg, suspend_type, from_this_thread, frames_tracker)\u001b[0m\n\u001b[0;32m   2095\u001b[0m         \u001b[38;5;28mself\u001b[39m\u001b[38;5;241m.\u001b[39m_call_input_hook()\n\u001b[0;32m   2097\u001b[0m     \u001b[38;5;28mself\u001b[39m\u001b[38;5;241m.\u001b[39mprocess_internal_commands()\n\u001b[1;32m-> 2098\u001b[0m     \u001b[43mtime\u001b[49m\u001b[38;5;241;43m.\u001b[39;49m\u001b[43msleep\u001b[49m\u001b[43m(\u001b[49m\u001b[38;5;241;43m0.01\u001b[39;49m\u001b[43m)\u001b[49m\n\u001b[0;32m   2100\u001b[0m \u001b[38;5;28mself\u001b[39m\u001b[38;5;241m.\u001b[39mcancel_async_evaluation(get_current_thread_id(thread), \u001b[38;5;28mstr\u001b[39m(\u001b[38;5;28mid\u001b[39m(frame)))\n\u001b[0;32m   2102\u001b[0m \u001b[38;5;66;03m# process any stepping instructions\u001b[39;00m\n",
      "\u001b[1;31mKeyboardInterrupt\u001b[0m: "
     ]
    }
   ],
   "source": [
    "# Substitua o caminho abaixo pelo caminho da sua solução C#\n",
    "solution_path = r'C:\\Sommus\\SommusGestor-web\\src'\n",
    "\n",
    "assemblies = find_referenced_assemblies(solution_path)\n",
    "target_assembly_name = list(assemblies.values())[0]  # Pegar o primeiro assembly como exemplo\n",
    "referenced_assemblies = find_referenced_assemblies_in_references(solution_path, target_assembly_name)\n",
    "\n",
    "generate_assemblies_table(referenced_assemblies)"
   ]
  }
 ],
 "metadata": {
  "kernelspec": {
   "display_name": "Python 3",
   "language": "python",
   "name": "python3"
  },
  "language_info": {
   "codemirror_mode": {
    "name": "ipython",
    "version": 3
   },
   "file_extension": ".py",
   "mimetype": "text/x-python",
   "name": "python",
   "nbconvert_exporter": "python",
   "pygments_lexer": "ipython3",
   "version": "3.10.11"
  }
 },
 "nbformat": 4,
 "nbformat_minor": 2
}
