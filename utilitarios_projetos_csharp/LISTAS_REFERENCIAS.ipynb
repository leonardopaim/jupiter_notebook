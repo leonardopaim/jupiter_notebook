{
 "cells": [
  {
   "cell_type": "code",
   "execution_count": null,
   "metadata": {},
   "outputs": [],
   "source": [
    "! pip install lxml"
   ]
  },
  {
   "cell_type": "code",
   "execution_count": 2,
   "metadata": {},
   "outputs": [],
   "source": [
    "import os\n",
    "import xml.etree.ElementTree as ET\n",
    "import re\n",
    "\n",
    "def find_dependencies(csproj_content):\n",
    "    dependencies = set()\n",
    "    pattern = re.compile(r'<PackageReference Include=\"([^\"]+)\"', re.MULTILINE)\n",
    "    matches = pattern.findall(csproj_content)\n",
    "    dependencies.update(matches)\n",
    "    return dependencies\n",
    "\n",
    "def count_dependencies(solution_path):\n",
    "    dependency_count = 0\n",
    "\n",
    "    # Encontrar arquivos de projeto (.csproj) na solução\n",
    "    project_files = [f for f in os.listdir(solution_path) if f.endswith('.csproj')]\n",
    "\n",
    "    for project_file in project_files:\n",
    "        project_path = os.path.join(solution_path, project_file)\n",
    "\n",
    "        # Ler conteúdo do arquivo de projeto C#\n",
    "        with open(project_path, 'r', encoding='utf-8') as file:\n",
    "            csproj_content = file.read()\n",
    "\n",
    "        # Encontrar dependências no arquivo de projeto\n",
    "        dependencies = find_dependencies(csproj_content)\n",
    "\n",
    "        # Contar o número de dependências\n",
    "        dependency_count += len(dependencies)\n",
    "\n",
    "        print(f\"Projeto: {project_file}\")\n",
    "        print(f\"Dependências: {len(dependencies)}\")\n",
    "        print(\"Lista de Dependências:\")\n",
    "        for dependency in dependencies:\n",
    "            print(f\"- {dependency}\")\n",
    "        print(\"\\n\")\n",
    "\n",
    "    print(f\"Total de dependências na solução: {dependency_count}\")"
   ]
  },
  {
   "cell_type": "code",
   "execution_count": null,
   "metadata": {},
   "outputs": [],
   "source": [
    "# Substitua o caminho abaixo pelo caminho da sua solução C#\n",
    "soluton_path = r'C:\\Sommus\\SommusGestor-web\\src'\n",
    "count_dependencies(soluton_path)"
   ]
  }
 ],
 "metadata": {
  "kernelspec": {
   "display_name": "Python 3",
   "language": "python",
   "name": "python3"
  },
  "language_info": {
   "codemirror_mode": {
    "name": "ipython",
    "version": 3
   },
   "file_extension": ".py",
   "mimetype": "text/x-python",
   "name": "python",
   "nbconvert_exporter": "python",
   "pygments_lexer": "ipython3",
   "version": "3.10.11"
  }
 },
 "nbformat": 4,
 "nbformat_minor": 2
}
