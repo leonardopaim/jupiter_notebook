{
 "cells": [
  {
   "cell_type": "code",
   "execution_count": null,
   "metadata": {},
   "outputs": [],
   "source": [
    "! pip install lxml"
   ]
  },
  {
   "cell_type": "code",
   "execution_count": null,
   "metadata": {},
   "outputs": [],
   "source": [
    "import os\n",
    "import xml.etree.ElementTree as ET\n",
    "\n",
    "def count_dependencies(solution_path):\n",
    "    dependency_info = []\n",
    "\n",
    "    # Encontrar arquivos de projeto (.csproj) na solução\n",
    "    for foldername, _, filenames in os.walk(solution_path):\n",
    "        for filename in filenames:\n",
    "            if filename.endswith('.csproj'):\n",
    "                csproj_path = os.path.join(foldername, filename)\n",
    "\n",
    "                # Contar o número de dependências\n",
    "                with open(csproj_path, 'r', encoding='utf-8') as file:\n",
    "                    csproj_content = file.read()\n",
    "                    dependencies = csproj_content.count(\"</ProjectReference>\")\n",
    "                    dependency_info.append((filename, dependencies))\n",
    "\n",
    "    # Ordenar a lista com base na quantidade de dependências\n",
    "    dependency_info.sort(key=lambda x: x[1])\n",
    "\n",
    "    # Criar tabela Markdown\n",
    "    markdown_table = \"| Projeto | Dependências |\\n|---------|--------------|\\n\"\n",
    "    for project, dependencies in dependency_info:\n",
    "        markdown_table += f\"| {project} | {dependencies} |\\n\"\n",
    "\n",
    "    markdown_table += f\"\\nTotal de dependências na solução: {sum(dependencies for _, dependencies in dependency_info)}\"\n",
    "\n",
    "    # Imprimir a tabela Markdown\n",
    "    print(markdown_table)"
   ]
  },
  {
   "cell_type": "code",
   "execution_count": null,
   "metadata": {},
   "outputs": [],
   "source": [
    "# Substitua o caminho abaixo pelo caminho da sua solução C#\n",
    "soluton_path = r'C:\\Sommus\\SommusGestor-web\\src'\n",
    "count_dependencies(soluton_path)"
   ]
  }
 ],
 "metadata": {
  "kernelspec": {
   "display_name": "Python 3",
   "language": "python",
   "name": "python3"
  },
  "language_info": {
   "codemirror_mode": {
    "name": "ipython",
    "version": 3
   },
   "file_extension": ".py",
   "mimetype": "text/x-python",
   "name": "python",
   "nbconvert_exporter": "python",
   "pygments_lexer": "ipython3",
   "version": "3.10.11"
  }
 },
 "nbformat": 4,
 "nbformat_minor": 2
}
