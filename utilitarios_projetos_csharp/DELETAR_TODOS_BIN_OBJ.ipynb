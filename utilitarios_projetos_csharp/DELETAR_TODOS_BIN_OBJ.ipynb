{
 "cells": [
  {
   "cell_type": "code",
   "execution_count": 11,
   "metadata": {},
   "outputs": [],
   "source": [
    "import os\n",
    "import shutil\n",
    "\n",
    "def delete_bin_obj_folders(root_path, max_depth=3):\n",
    "    for foldername, subfolders, filenames in os.walk(root_path):\n",
    "        # Calcula a profundidade atual\n",
    "        current_depth = foldername[len(root_path):].count(os.sep)\n",
    "\n",
    "        # Limita a busca até três níveis de profundidade\n",
    "        if current_depth > max_depth:\n",
    "            del subfolders[:]\n",
    "            continue\n",
    "\n",
    "        # Exclui as pastas \"bin\" e \"obj\" se existirem\n",
    "        if 'bin' in subfolders:\n",
    "            subfolders.remove('bin')\n",
    "            shutil.rmtree(os.path.join(foldername, 'bin'))\n",
    "            print(f\"Pasta 'bin' excluída em {foldername}\")\n",
    "\n",
    "        if 'obj' in subfolders:\n",
    "            subfolders.remove('obj')\n",
    "            shutil.rmtree(os.path.join(foldername, 'obj'))\n",
    "            print(f\"Pasta 'obj' excluída em {foldername}\")"
   ]
  },
  {
   "cell_type": "code",
   "execution_count": 12,
   "metadata": {},
   "outputs": [
    {
     "name": "stdout",
     "output_type": "stream",
     "text": [
      "Exclusão concluída.\n"
     ]
    }
   ],
   "source": [
    "# Substitua o caminho abaixo pelo caminho real da sua solução C#\n",
    "solution_path = r'C:\\Sommus\\SommusGestor-web\\src'\n",
    "delete_bin_obj_folders(solution_path)"
   ]
  }
 ],
 "metadata": {
  "kernelspec": {
   "display_name": "Python 3",
   "language": "python",
   "name": "python3"
  },
  "language_info": {
   "codemirror_mode": {
    "name": "ipython",
    "version": 3
   },
   "file_extension": ".py",
   "mimetype": "text/x-python",
   "name": "python",
   "nbconvert_exporter": "python",
   "pygments_lexer": "ipython3",
   "version": "3.10.11"
  }
 },
 "nbformat": 4,
 "nbformat_minor": 2
}
